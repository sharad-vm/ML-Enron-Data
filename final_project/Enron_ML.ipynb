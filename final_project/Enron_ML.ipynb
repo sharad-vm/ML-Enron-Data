{
 "cells": [
  {
   "cell_type": "markdown",
   "metadata": {},
   "source": [
    "## Identification of Fraud from Enron Email\n",
    "##### Sharad Mohan Vijalapuram\n",
    "\n",
    "### Introduction \n",
    "\n",
    "Enron Corporation, an American energy company based in Houston, TX was formed by Kenneth Lay in 1985 and by the year 2000, it was one of the largest companies in the US. It is believed that Jeffrey Skilling was one of the key persons in developing a staff of executives that used accounting loopholes and poor financial reporting to hide billions of dollars in debt from failed deals and projects. Towards the end of 2001, the company collpsed into bankruptcy.\n",
    "\n",
    "The Enron scandal, publicized in October 2001, eventually led to the bankruptcy of the company, whcih turned out to be the largest bankruptcy reorganization in American history at that time and the biggest audit failure.\n",
    "\n",
    "The Enron dataset used in this project consists of financial and email data of a bunch of executives who worked for Enron. The goal of this project is to use different machine learning algorithms and potentially tune them to accurately identify if a person is of interest or not. As part of the project, I used different features of the data set and created a few new features when necessary to try and improve the accuracy, precision and recall of various different algorithms to finally pick one algorithm that has the best of the scores.  \n"
   ]
  },
  {
   "cell_type": "code",
   "execution_count": 45,
   "metadata": {},
   "outputs": [],
   "source": [
    "# Load necessary packages and data\n",
    "import numpy as np\n",
    "import pandas as pd\n",
    "from matplotlib import pyplot as plt\n",
    "%matplotlib inline  \n",
    "import sys\n",
    "import pickle\n",
    "import sklearn\n",
    "sys.path.append(\"../tools/\")\n",
    "from feature_format import featureFormat, targetFeatureSplit\n",
    "from tester import test_classifier, dump_classifier_and_data\n",
    "from sklearn.preprocessing import Imputer\n",
    "\n",
    "with open(\"final_project_dataset.pkl\", \"r\") as data_file:\n",
    "    data_dict = pickle.load(data_file)\n",
    "\n",
    "features_list = ['poi', 'salary', 'deferral_payments', 'total_payments', 'loan_advances',\n",
    "                 'bonus', 'restricted_stock_deferred', 'deferred_income', 'total_stock_value',\n",
    "                 'expenses', 'exercised_stock_options', 'long_term_incentive', 'other',\n",
    "                 'restricted_stock', 'director_fees', 'to_messages', 'from_poi_to_this_person',\n",
    "                 'from_messages', 'from_this_person_to_poi', 'shared_receipt_with_poi']\n",
    "\n",
    "### Load the dictionary containing the dataset\n",
    "with open(\"final_project_dataset.pkl\", \"r\") as data_file:\n",
    "    data_dict = pickle.load(data_file)\n"
   ]
  },
  {
   "cell_type": "markdown",
   "metadata": {},
   "source": [
    "### Data Auditing\n",
    "For easier data access and manipulation, I change the data set to a pandas data frame and look at some basic information about the data set. I also replace any 'NaN' to numpy's nan to better identify and impute values if necessary later on.\n",
    "\n",
    "The info method on the data frame reveals some basic information about the data set. The data set has 146 entries for 146 ENRON executives and 21 of their features as columns."
   ]
  },
  {
   "cell_type": "code",
   "execution_count": 46,
   "metadata": {},
   "outputs": [
    {
     "name": "stdout",
     "output_type": "stream",
     "text": [
      "<class 'pandas.core.frame.DataFrame'>\n",
      "Index: 146 entries, ALLEN PHILLIP K to YEAP SOON\n",
      "Data columns (total 21 columns):\n",
      "salary                       95 non-null float64\n",
      "to_messages                  86 non-null float64\n",
      "deferral_payments            39 non-null float64\n",
      "total_payments               125 non-null float64\n",
      "exercised_stock_options      102 non-null float64\n",
      "bonus                        82 non-null float64\n",
      "restricted_stock             110 non-null float64\n",
      "shared_receipt_with_poi      86 non-null float64\n",
      "restricted_stock_deferred    18 non-null float64\n",
      "total_stock_value            126 non-null float64\n",
      "expenses                     95 non-null float64\n",
      "loan_advances                4 non-null float64\n",
      "from_messages                86 non-null float64\n",
      "other                        93 non-null float64\n",
      "from_this_person_to_poi      86 non-null float64\n",
      "poi                          146 non-null bool\n",
      "director_fees                17 non-null float64\n",
      "deferred_income              49 non-null float64\n",
      "long_term_incentive          66 non-null float64\n",
      "email_address                111 non-null object\n",
      "from_poi_to_this_person      86 non-null float64\n",
      "dtypes: bool(1), float64(19), object(1)\n",
      "memory usage: 24.1+ KB\n"
     ]
    }
   ],
   "source": [
    "enrondf = pd.DataFrame.from_dict(data_dict, orient = 'index')\n",
    "enrondf = enrondf.replace('NaN', np.nan)\n",
    "enrondf[features_list]\n",
    "enrondf.info()"
   ]
  },
  {
   "cell_type": "code",
   "execution_count": 47,
   "metadata": {},
   "outputs": [
    {
     "name": "stdout",
     "output_type": "stream",
     "text": [
      "Number of executives: 146\n",
      "Number of POIs: 18\n",
      "Number of features: 21\n"
     ]
    }
   ],
   "source": [
    "# Basic statistics about the data set\n",
    "print 'Number of executives:', len(enrondf)\n",
    "print 'Number of POIs:', len(enrondf.loc[enrondf.poi == True, 'poi'])\n",
    "print 'Number of features:', enrondf.shape[1]"
   ]
  },
  {
   "cell_type": "code",
   "execution_count": 48,
   "metadata": {},
   "outputs": [
    {
     "data": {
      "text/html": [
       "<div>\n",
       "<style>\n",
       "    .dataframe thead tr:only-child th {\n",
       "        text-align: right;\n",
       "    }\n",
       "\n",
       "    .dataframe thead th {\n",
       "        text-align: left;\n",
       "    }\n",
       "\n",
       "    .dataframe tbody tr th {\n",
       "        vertical-align: top;\n",
       "    }\n",
       "</style>\n",
       "<table border=\"1\" class=\"dataframe\">\n",
       "  <thead>\n",
       "    <tr style=\"text-align: right;\">\n",
       "      <th></th>\n",
       "      <th>salary</th>\n",
       "      <th>to_messages</th>\n",
       "      <th>deferral_payments</th>\n",
       "      <th>total_payments</th>\n",
       "      <th>exercised_stock_options</th>\n",
       "      <th>bonus</th>\n",
       "      <th>restricted_stock</th>\n",
       "      <th>shared_receipt_with_poi</th>\n",
       "      <th>restricted_stock_deferred</th>\n",
       "      <th>total_stock_value</th>\n",
       "      <th>expenses</th>\n",
       "      <th>loan_advances</th>\n",
       "      <th>from_messages</th>\n",
       "      <th>other</th>\n",
       "      <th>from_this_person_to_poi</th>\n",
       "      <th>director_fees</th>\n",
       "      <th>deferred_income</th>\n",
       "      <th>long_term_incentive</th>\n",
       "      <th>from_poi_to_this_person</th>\n",
       "    </tr>\n",
       "  </thead>\n",
       "  <tbody>\n",
       "    <tr>\n",
       "      <th>count</th>\n",
       "      <td>9.500000e+01</td>\n",
       "      <td>86.000000</td>\n",
       "      <td>3.900000e+01</td>\n",
       "      <td>1.250000e+02</td>\n",
       "      <td>1.020000e+02</td>\n",
       "      <td>8.200000e+01</td>\n",
       "      <td>1.100000e+02</td>\n",
       "      <td>86.000000</td>\n",
       "      <td>1.800000e+01</td>\n",
       "      <td>1.260000e+02</td>\n",
       "      <td>9.500000e+01</td>\n",
       "      <td>4.000000e+00</td>\n",
       "      <td>86.000000</td>\n",
       "      <td>9.300000e+01</td>\n",
       "      <td>86.000000</td>\n",
       "      <td>1.700000e+01</td>\n",
       "      <td>4.900000e+01</td>\n",
       "      <td>6.600000e+01</td>\n",
       "      <td>86.000000</td>\n",
       "    </tr>\n",
       "    <tr>\n",
       "      <th>mean</th>\n",
       "      <td>5.621943e+05</td>\n",
       "      <td>2073.860465</td>\n",
       "      <td>1.642674e+06</td>\n",
       "      <td>5.081526e+06</td>\n",
       "      <td>5.987054e+06</td>\n",
       "      <td>2.374235e+06</td>\n",
       "      <td>2.321741e+06</td>\n",
       "      <td>1176.465116</td>\n",
       "      <td>1.664106e+05</td>\n",
       "      <td>6.773957e+06</td>\n",
       "      <td>1.087289e+05</td>\n",
       "      <td>4.196250e+07</td>\n",
       "      <td>608.790698</td>\n",
       "      <td>9.190650e+05</td>\n",
       "      <td>41.232558</td>\n",
       "      <td>1.668049e+05</td>\n",
       "      <td>-1.140475e+06</td>\n",
       "      <td>1.470361e+06</td>\n",
       "      <td>64.895349</td>\n",
       "    </tr>\n",
       "    <tr>\n",
       "      <th>std</th>\n",
       "      <td>2.716369e+06</td>\n",
       "      <td>2582.700981</td>\n",
       "      <td>5.161930e+06</td>\n",
       "      <td>2.906172e+07</td>\n",
       "      <td>3.106201e+07</td>\n",
       "      <td>1.071333e+07</td>\n",
       "      <td>1.251828e+07</td>\n",
       "      <td>1178.317641</td>\n",
       "      <td>4.201494e+06</td>\n",
       "      <td>3.895777e+07</td>\n",
       "      <td>5.335348e+05</td>\n",
       "      <td>4.708321e+07</td>\n",
       "      <td>1841.033949</td>\n",
       "      <td>4.589253e+06</td>\n",
       "      <td>100.073111</td>\n",
       "      <td>3.198914e+05</td>\n",
       "      <td>4.025406e+06</td>\n",
       "      <td>5.942759e+06</td>\n",
       "      <td>86.979244</td>\n",
       "    </tr>\n",
       "    <tr>\n",
       "      <th>min</th>\n",
       "      <td>4.770000e+02</td>\n",
       "      <td>57.000000</td>\n",
       "      <td>-1.025000e+05</td>\n",
       "      <td>1.480000e+02</td>\n",
       "      <td>3.285000e+03</td>\n",
       "      <td>7.000000e+04</td>\n",
       "      <td>-2.604490e+06</td>\n",
       "      <td>2.000000</td>\n",
       "      <td>-7.576788e+06</td>\n",
       "      <td>-4.409300e+04</td>\n",
       "      <td>1.480000e+02</td>\n",
       "      <td>4.000000e+05</td>\n",
       "      <td>12.000000</td>\n",
       "      <td>2.000000e+00</td>\n",
       "      <td>0.000000</td>\n",
       "      <td>3.285000e+03</td>\n",
       "      <td>-2.799289e+07</td>\n",
       "      <td>6.922300e+04</td>\n",
       "      <td>0.000000</td>\n",
       "    </tr>\n",
       "    <tr>\n",
       "      <th>25%</th>\n",
       "      <td>2.118160e+05</td>\n",
       "      <td>541.250000</td>\n",
       "      <td>8.157300e+04</td>\n",
       "      <td>3.944750e+05</td>\n",
       "      <td>5.278862e+05</td>\n",
       "      <td>4.312500e+05</td>\n",
       "      <td>2.540180e+05</td>\n",
       "      <td>249.750000</td>\n",
       "      <td>-3.896218e+05</td>\n",
       "      <td>4.945102e+05</td>\n",
       "      <td>2.261400e+04</td>\n",
       "      <td>1.600000e+06</td>\n",
       "      <td>22.750000</td>\n",
       "      <td>1.215000e+03</td>\n",
       "      <td>1.000000</td>\n",
       "      <td>9.878400e+04</td>\n",
       "      <td>-6.948620e+05</td>\n",
       "      <td>2.812500e+05</td>\n",
       "      <td>10.000000</td>\n",
       "    </tr>\n",
       "    <tr>\n",
       "      <th>50%</th>\n",
       "      <td>2.599960e+05</td>\n",
       "      <td>1211.000000</td>\n",
       "      <td>2.274490e+05</td>\n",
       "      <td>1.101393e+06</td>\n",
       "      <td>1.310814e+06</td>\n",
       "      <td>7.693750e+05</td>\n",
       "      <td>4.517400e+05</td>\n",
       "      <td>740.500000</td>\n",
       "      <td>-1.469750e+05</td>\n",
       "      <td>1.102872e+06</td>\n",
       "      <td>4.695000e+04</td>\n",
       "      <td>4.176250e+07</td>\n",
       "      <td>41.000000</td>\n",
       "      <td>5.238200e+04</td>\n",
       "      <td>8.000000</td>\n",
       "      <td>1.085790e+05</td>\n",
       "      <td>-1.597920e+05</td>\n",
       "      <td>4.420350e+05</td>\n",
       "      <td>35.000000</td>\n",
       "    </tr>\n",
       "    <tr>\n",
       "      <th>75%</th>\n",
       "      <td>3.121170e+05</td>\n",
       "      <td>2634.750000</td>\n",
       "      <td>1.002672e+06</td>\n",
       "      <td>2.093263e+06</td>\n",
       "      <td>2.547724e+06</td>\n",
       "      <td>1.200000e+06</td>\n",
       "      <td>1.002370e+06</td>\n",
       "      <td>1888.250000</td>\n",
       "      <td>-7.500975e+04</td>\n",
       "      <td>2.949847e+06</td>\n",
       "      <td>7.995250e+04</td>\n",
       "      <td>8.212500e+07</td>\n",
       "      <td>145.500000</td>\n",
       "      <td>3.620960e+05</td>\n",
       "      <td>24.750000</td>\n",
       "      <td>1.137840e+05</td>\n",
       "      <td>-3.834600e+04</td>\n",
       "      <td>9.386720e+05</td>\n",
       "      <td>72.250000</td>\n",
       "    </tr>\n",
       "    <tr>\n",
       "      <th>max</th>\n",
       "      <td>2.670423e+07</td>\n",
       "      <td>15149.000000</td>\n",
       "      <td>3.208340e+07</td>\n",
       "      <td>3.098866e+08</td>\n",
       "      <td>3.117640e+08</td>\n",
       "      <td>9.734362e+07</td>\n",
       "      <td>1.303223e+08</td>\n",
       "      <td>5521.000000</td>\n",
       "      <td>1.545629e+07</td>\n",
       "      <td>4.345095e+08</td>\n",
       "      <td>5.235198e+06</td>\n",
       "      <td>8.392500e+07</td>\n",
       "      <td>14368.000000</td>\n",
       "      <td>4.266759e+07</td>\n",
       "      <td>609.000000</td>\n",
       "      <td>1.398517e+06</td>\n",
       "      <td>-8.330000e+02</td>\n",
       "      <td>4.852193e+07</td>\n",
       "      <td>528.000000</td>\n",
       "    </tr>\n",
       "  </tbody>\n",
       "</table>\n",
       "</div>"
      ],
      "text/plain": [
       "             salary   to_messages  deferral_payments  total_payments  \\\n",
       "count  9.500000e+01     86.000000       3.900000e+01    1.250000e+02   \n",
       "mean   5.621943e+05   2073.860465       1.642674e+06    5.081526e+06   \n",
       "std    2.716369e+06   2582.700981       5.161930e+06    2.906172e+07   \n",
       "min    4.770000e+02     57.000000      -1.025000e+05    1.480000e+02   \n",
       "25%    2.118160e+05    541.250000       8.157300e+04    3.944750e+05   \n",
       "50%    2.599960e+05   1211.000000       2.274490e+05    1.101393e+06   \n",
       "75%    3.121170e+05   2634.750000       1.002672e+06    2.093263e+06   \n",
       "max    2.670423e+07  15149.000000       3.208340e+07    3.098866e+08   \n",
       "\n",
       "       exercised_stock_options         bonus  restricted_stock  \\\n",
       "count             1.020000e+02  8.200000e+01      1.100000e+02   \n",
       "mean              5.987054e+06  2.374235e+06      2.321741e+06   \n",
       "std               3.106201e+07  1.071333e+07      1.251828e+07   \n",
       "min               3.285000e+03  7.000000e+04     -2.604490e+06   \n",
       "25%               5.278862e+05  4.312500e+05      2.540180e+05   \n",
       "50%               1.310814e+06  7.693750e+05      4.517400e+05   \n",
       "75%               2.547724e+06  1.200000e+06      1.002370e+06   \n",
       "max               3.117640e+08  9.734362e+07      1.303223e+08   \n",
       "\n",
       "       shared_receipt_with_poi  restricted_stock_deferred  total_stock_value  \\\n",
       "count                86.000000               1.800000e+01       1.260000e+02   \n",
       "mean               1176.465116               1.664106e+05       6.773957e+06   \n",
       "std                1178.317641               4.201494e+06       3.895777e+07   \n",
       "min                   2.000000              -7.576788e+06      -4.409300e+04   \n",
       "25%                 249.750000              -3.896218e+05       4.945102e+05   \n",
       "50%                 740.500000              -1.469750e+05       1.102872e+06   \n",
       "75%                1888.250000              -7.500975e+04       2.949847e+06   \n",
       "max                5521.000000               1.545629e+07       4.345095e+08   \n",
       "\n",
       "           expenses  loan_advances  from_messages         other  \\\n",
       "count  9.500000e+01   4.000000e+00      86.000000  9.300000e+01   \n",
       "mean   1.087289e+05   4.196250e+07     608.790698  9.190650e+05   \n",
       "std    5.335348e+05   4.708321e+07    1841.033949  4.589253e+06   \n",
       "min    1.480000e+02   4.000000e+05      12.000000  2.000000e+00   \n",
       "25%    2.261400e+04   1.600000e+06      22.750000  1.215000e+03   \n",
       "50%    4.695000e+04   4.176250e+07      41.000000  5.238200e+04   \n",
       "75%    7.995250e+04   8.212500e+07     145.500000  3.620960e+05   \n",
       "max    5.235198e+06   8.392500e+07   14368.000000  4.266759e+07   \n",
       "\n",
       "       from_this_person_to_poi  director_fees  deferred_income  \\\n",
       "count                86.000000   1.700000e+01     4.900000e+01   \n",
       "mean                 41.232558   1.668049e+05    -1.140475e+06   \n",
       "std                 100.073111   3.198914e+05     4.025406e+06   \n",
       "min                   0.000000   3.285000e+03    -2.799289e+07   \n",
       "25%                   1.000000   9.878400e+04    -6.948620e+05   \n",
       "50%                   8.000000   1.085790e+05    -1.597920e+05   \n",
       "75%                  24.750000   1.137840e+05    -3.834600e+04   \n",
       "max                 609.000000   1.398517e+06    -8.330000e+02   \n",
       "\n",
       "       long_term_incentive  from_poi_to_this_person  \n",
       "count         6.600000e+01                86.000000  \n",
       "mean          1.470361e+06                64.895349  \n",
       "std           5.942759e+06                86.979244  \n",
       "min           6.922300e+04                 0.000000  \n",
       "25%           2.812500e+05                10.000000  \n",
       "50%           4.420350e+05                35.000000  \n",
       "75%           9.386720e+05                72.250000  \n",
       "max           4.852193e+07               528.000000  "
      ]
     },
     "execution_count": 48,
     "metadata": {},
     "output_type": "execute_result"
    }
   ],
   "source": [
    "enrondf.describe()"
   ]
  },
  {
   "cell_type": "markdown",
   "metadata": {},
   "source": [
    "Here's a look at the data frame for the first 4 executives in the list. "
   ]
  },
  {
   "cell_type": "code",
   "execution_count": 49,
   "metadata": {},
   "outputs": [
    {
     "data": {
      "text/html": [
       "<div>\n",
       "<style>\n",
       "    .dataframe thead tr:only-child th {\n",
       "        text-align: right;\n",
       "    }\n",
       "\n",
       "    .dataframe thead th {\n",
       "        text-align: left;\n",
       "    }\n",
       "\n",
       "    .dataframe tbody tr th {\n",
       "        vertical-align: top;\n",
       "    }\n",
       "</style>\n",
       "<table border=\"1\" class=\"dataframe\">\n",
       "  <thead>\n",
       "    <tr style=\"text-align: right;\">\n",
       "      <th></th>\n",
       "      <th>salary</th>\n",
       "      <th>to_messages</th>\n",
       "      <th>deferral_payments</th>\n",
       "      <th>total_payments</th>\n",
       "      <th>exercised_stock_options</th>\n",
       "      <th>bonus</th>\n",
       "      <th>restricted_stock</th>\n",
       "      <th>shared_receipt_with_poi</th>\n",
       "      <th>restricted_stock_deferred</th>\n",
       "      <th>total_stock_value</th>\n",
       "      <th>...</th>\n",
       "      <th>loan_advances</th>\n",
       "      <th>from_messages</th>\n",
       "      <th>other</th>\n",
       "      <th>from_this_person_to_poi</th>\n",
       "      <th>poi</th>\n",
       "      <th>director_fees</th>\n",
       "      <th>deferred_income</th>\n",
       "      <th>long_term_incentive</th>\n",
       "      <th>email_address</th>\n",
       "      <th>from_poi_to_this_person</th>\n",
       "    </tr>\n",
       "  </thead>\n",
       "  <tbody>\n",
       "    <tr>\n",
       "      <th>ALLEN PHILLIP K</th>\n",
       "      <td>201955.0</td>\n",
       "      <td>2902.0</td>\n",
       "      <td>2869717.0</td>\n",
       "      <td>4484442.0</td>\n",
       "      <td>1729541.0</td>\n",
       "      <td>4175000.0</td>\n",
       "      <td>126027.0</td>\n",
       "      <td>1407.0</td>\n",
       "      <td>-126027.0</td>\n",
       "      <td>1729541.0</td>\n",
       "      <td>...</td>\n",
       "      <td>NaN</td>\n",
       "      <td>2195.0</td>\n",
       "      <td>152.0</td>\n",
       "      <td>65.0</td>\n",
       "      <td>False</td>\n",
       "      <td>NaN</td>\n",
       "      <td>-3081055.0</td>\n",
       "      <td>304805.0</td>\n",
       "      <td>phillip.allen@enron.com</td>\n",
       "      <td>47.0</td>\n",
       "    </tr>\n",
       "    <tr>\n",
       "      <th>BADUM JAMES P</th>\n",
       "      <td>NaN</td>\n",
       "      <td>NaN</td>\n",
       "      <td>178980.0</td>\n",
       "      <td>182466.0</td>\n",
       "      <td>257817.0</td>\n",
       "      <td>NaN</td>\n",
       "      <td>NaN</td>\n",
       "      <td>NaN</td>\n",
       "      <td>NaN</td>\n",
       "      <td>257817.0</td>\n",
       "      <td>...</td>\n",
       "      <td>NaN</td>\n",
       "      <td>NaN</td>\n",
       "      <td>NaN</td>\n",
       "      <td>NaN</td>\n",
       "      <td>False</td>\n",
       "      <td>NaN</td>\n",
       "      <td>NaN</td>\n",
       "      <td>NaN</td>\n",
       "      <td>NaN</td>\n",
       "      <td>NaN</td>\n",
       "    </tr>\n",
       "    <tr>\n",
       "      <th>BANNANTINE JAMES M</th>\n",
       "      <td>477.0</td>\n",
       "      <td>566.0</td>\n",
       "      <td>NaN</td>\n",
       "      <td>916197.0</td>\n",
       "      <td>4046157.0</td>\n",
       "      <td>NaN</td>\n",
       "      <td>1757552.0</td>\n",
       "      <td>465.0</td>\n",
       "      <td>-560222.0</td>\n",
       "      <td>5243487.0</td>\n",
       "      <td>...</td>\n",
       "      <td>NaN</td>\n",
       "      <td>29.0</td>\n",
       "      <td>864523.0</td>\n",
       "      <td>0.0</td>\n",
       "      <td>False</td>\n",
       "      <td>NaN</td>\n",
       "      <td>-5104.0</td>\n",
       "      <td>NaN</td>\n",
       "      <td>james.bannantine@enron.com</td>\n",
       "      <td>39.0</td>\n",
       "    </tr>\n",
       "    <tr>\n",
       "      <th>BAXTER JOHN C</th>\n",
       "      <td>267102.0</td>\n",
       "      <td>NaN</td>\n",
       "      <td>1295738.0</td>\n",
       "      <td>5634343.0</td>\n",
       "      <td>6680544.0</td>\n",
       "      <td>1200000.0</td>\n",
       "      <td>3942714.0</td>\n",
       "      <td>NaN</td>\n",
       "      <td>NaN</td>\n",
       "      <td>10623258.0</td>\n",
       "      <td>...</td>\n",
       "      <td>NaN</td>\n",
       "      <td>NaN</td>\n",
       "      <td>2660303.0</td>\n",
       "      <td>NaN</td>\n",
       "      <td>False</td>\n",
       "      <td>NaN</td>\n",
       "      <td>-1386055.0</td>\n",
       "      <td>1586055.0</td>\n",
       "      <td>NaN</td>\n",
       "      <td>NaN</td>\n",
       "    </tr>\n",
       "  </tbody>\n",
       "</table>\n",
       "<p>4 rows × 21 columns</p>\n",
       "</div>"
      ],
      "text/plain": [
       "                      salary  to_messages  deferral_payments  total_payments  \\\n",
       "ALLEN PHILLIP K     201955.0       2902.0          2869717.0       4484442.0   \n",
       "BADUM JAMES P            NaN          NaN           178980.0        182466.0   \n",
       "BANNANTINE JAMES M     477.0        566.0                NaN        916197.0   \n",
       "BAXTER JOHN C       267102.0          NaN          1295738.0       5634343.0   \n",
       "\n",
       "                    exercised_stock_options      bonus  restricted_stock  \\\n",
       "ALLEN PHILLIP K                   1729541.0  4175000.0          126027.0   \n",
       "BADUM JAMES P                      257817.0        NaN               NaN   \n",
       "BANNANTINE JAMES M                4046157.0        NaN         1757552.0   \n",
       "BAXTER JOHN C                     6680544.0  1200000.0         3942714.0   \n",
       "\n",
       "                    shared_receipt_with_poi  restricted_stock_deferred  \\\n",
       "ALLEN PHILLIP K                      1407.0                  -126027.0   \n",
       "BADUM JAMES P                           NaN                        NaN   \n",
       "BANNANTINE JAMES M                    465.0                  -560222.0   \n",
       "BAXTER JOHN C                           NaN                        NaN   \n",
       "\n",
       "                    total_stock_value           ...            loan_advances  \\\n",
       "ALLEN PHILLIP K             1729541.0           ...                      NaN   \n",
       "BADUM JAMES P                257817.0           ...                      NaN   \n",
       "BANNANTINE JAMES M          5243487.0           ...                      NaN   \n",
       "BAXTER JOHN C              10623258.0           ...                      NaN   \n",
       "\n",
       "                    from_messages      other  from_this_person_to_poi    poi  \\\n",
       "ALLEN PHILLIP K            2195.0      152.0                     65.0  False   \n",
       "BADUM JAMES P                 NaN        NaN                      NaN  False   \n",
       "BANNANTINE JAMES M           29.0   864523.0                      0.0  False   \n",
       "BAXTER JOHN C                 NaN  2660303.0                      NaN  False   \n",
       "\n",
       "                    director_fees  deferred_income  long_term_incentive  \\\n",
       "ALLEN PHILLIP K               NaN       -3081055.0             304805.0   \n",
       "BADUM JAMES P                 NaN              NaN                  NaN   \n",
       "BANNANTINE JAMES M            NaN          -5104.0                  NaN   \n",
       "BAXTER JOHN C                 NaN       -1386055.0            1586055.0   \n",
       "\n",
       "                                 email_address from_poi_to_this_person  \n",
       "ALLEN PHILLIP K        phillip.allen@enron.com                    47.0  \n",
       "BADUM JAMES P                              NaN                     NaN  \n",
       "BANNANTINE JAMES M  james.bannantine@enron.com                    39.0  \n",
       "BAXTER JOHN C                              NaN                     NaN  \n",
       "\n",
       "[4 rows x 21 columns]"
      ]
     },
     "execution_count": 49,
     "metadata": {},
     "output_type": "execute_result"
    }
   ],
   "source": [
    "enrondf.head(4)"
   ]
  },
  {
   "cell_type": "markdown",
   "metadata": {},
   "source": [
    "### Data Cleaning & Outlier Investigation\n",
    "\n",
    "There are quite a few records with NaNs in them and I cannot remove or ignore all the ones that have missing data as that would affect the overall quality of my machine learning algorithm as its directly proportional to the amount of data. However, I want to drop rows that are all NaNs and I found one executive - Loackhart Eugene E."
   ]
  },
  {
   "cell_type": "code",
   "execution_count": 50,
   "metadata": {},
   "outputs": [
    {
     "data": {
      "text/html": [
       "<div>\n",
       "<style>\n",
       "    .dataframe thead tr:only-child th {\n",
       "        text-align: right;\n",
       "    }\n",
       "\n",
       "    .dataframe thead th {\n",
       "        text-align: left;\n",
       "    }\n",
       "\n",
       "    .dataframe tbody tr th {\n",
       "        vertical-align: top;\n",
       "    }\n",
       "</style>\n",
       "<table border=\"1\" class=\"dataframe\">\n",
       "  <thead>\n",
       "    <tr style=\"text-align: right;\">\n",
       "      <th></th>\n",
       "      <th>salary</th>\n",
       "      <th>to_messages</th>\n",
       "      <th>deferral_payments</th>\n",
       "      <th>total_payments</th>\n",
       "      <th>exercised_stock_options</th>\n",
       "      <th>bonus</th>\n",
       "      <th>restricted_stock</th>\n",
       "      <th>shared_receipt_with_poi</th>\n",
       "      <th>restricted_stock_deferred</th>\n",
       "      <th>total_stock_value</th>\n",
       "      <th>...</th>\n",
       "      <th>loan_advances</th>\n",
       "      <th>from_messages</th>\n",
       "      <th>other</th>\n",
       "      <th>from_this_person_to_poi</th>\n",
       "      <th>poi</th>\n",
       "      <th>director_fees</th>\n",
       "      <th>deferred_income</th>\n",
       "      <th>long_term_incentive</th>\n",
       "      <th>email_address</th>\n",
       "      <th>from_poi_to_this_person</th>\n",
       "    </tr>\n",
       "  </thead>\n",
       "  <tbody>\n",
       "  </tbody>\n",
       "</table>\n",
       "<p>0 rows × 21 columns</p>\n",
       "</div>"
      ],
      "text/plain": [
       "Empty DataFrame\n",
       "Columns: [salary, to_messages, deferral_payments, total_payments, exercised_stock_options, bonus, restricted_stock, shared_receipt_with_poi, restricted_stock_deferred, total_stock_value, expenses, loan_advances, from_messages, other, from_this_person_to_poi, poi, director_fees, deferred_income, long_term_incentive, email_address, from_poi_to_this_person]\n",
       "Index: []\n",
       "\n",
       "[0 rows x 21 columns]"
      ]
     },
     "execution_count": 50,
     "metadata": {},
     "output_type": "execute_result"
    }
   ],
   "source": [
    "enrondf[enrondf.isnull().all(axis=1)]"
   ]
  },
  {
   "cell_type": "code",
   "execution_count": 51,
   "metadata": {},
   "outputs": [
    {
     "data": {
      "text/html": [
       "<div>\n",
       "<style>\n",
       "    .dataframe thead tr:only-child th {\n",
       "        text-align: right;\n",
       "    }\n",
       "\n",
       "    .dataframe thead th {\n",
       "        text-align: left;\n",
       "    }\n",
       "\n",
       "    .dataframe tbody tr th {\n",
       "        vertical-align: top;\n",
       "    }\n",
       "</style>\n",
       "<table border=\"1\" class=\"dataframe\">\n",
       "  <thead>\n",
       "    <tr style=\"text-align: right;\">\n",
       "      <th></th>\n",
       "      <th>salary</th>\n",
       "      <th>to_messages</th>\n",
       "      <th>deferral_payments</th>\n",
       "      <th>total_payments</th>\n",
       "      <th>exercised_stock_options</th>\n",
       "      <th>bonus</th>\n",
       "      <th>restricted_stock</th>\n",
       "      <th>shared_receipt_with_poi</th>\n",
       "      <th>restricted_stock_deferred</th>\n",
       "      <th>total_stock_value</th>\n",
       "      <th>...</th>\n",
       "      <th>loan_advances</th>\n",
       "      <th>from_messages</th>\n",
       "      <th>other</th>\n",
       "      <th>from_this_person_to_poi</th>\n",
       "      <th>poi</th>\n",
       "      <th>director_fees</th>\n",
       "      <th>deferred_income</th>\n",
       "      <th>long_term_incentive</th>\n",
       "      <th>email_address</th>\n",
       "      <th>from_poi_to_this_person</th>\n",
       "    </tr>\n",
       "  </thead>\n",
       "  <tbody>\n",
       "    <tr>\n",
       "      <th>LOCKHART EUGENE E</th>\n",
       "      <td>NaN</td>\n",
       "      <td>NaN</td>\n",
       "      <td>NaN</td>\n",
       "      <td>NaN</td>\n",
       "      <td>NaN</td>\n",
       "      <td>NaN</td>\n",
       "      <td>NaN</td>\n",
       "      <td>NaN</td>\n",
       "      <td>NaN</td>\n",
       "      <td>NaN</td>\n",
       "      <td>...</td>\n",
       "      <td>NaN</td>\n",
       "      <td>NaN</td>\n",
       "      <td>NaN</td>\n",
       "      <td>NaN</td>\n",
       "      <td>False</td>\n",
       "      <td>NaN</td>\n",
       "      <td>NaN</td>\n",
       "      <td>NaN</td>\n",
       "      <td>NaN</td>\n",
       "      <td>NaN</td>\n",
       "    </tr>\n",
       "  </tbody>\n",
       "</table>\n",
       "<p>1 rows × 21 columns</p>\n",
       "</div>"
      ],
      "text/plain": [
       "                   salary  to_messages  deferral_payments  total_payments  \\\n",
       "LOCKHART EUGENE E     NaN          NaN                NaN             NaN   \n",
       "\n",
       "                   exercised_stock_options  bonus  restricted_stock  \\\n",
       "LOCKHART EUGENE E                      NaN    NaN               NaN   \n",
       "\n",
       "                   shared_receipt_with_poi  restricted_stock_deferred  \\\n",
       "LOCKHART EUGENE E                      NaN                        NaN   \n",
       "\n",
       "                   total_stock_value           ...            loan_advances  \\\n",
       "LOCKHART EUGENE E                NaN           ...                      NaN   \n",
       "\n",
       "                   from_messages  other  from_this_person_to_poi    poi  \\\n",
       "LOCKHART EUGENE E            NaN    NaN                      NaN  False   \n",
       "\n",
       "                   director_fees  deferred_income  long_term_incentive  \\\n",
       "LOCKHART EUGENE E            NaN              NaN                  NaN   \n",
       "\n",
       "                   email_address from_poi_to_this_person  \n",
       "LOCKHART EUGENE E            NaN                     NaN  \n",
       "\n",
       "[1 rows x 21 columns]"
      ]
     },
     "execution_count": 51,
     "metadata": {},
     "output_type": "execute_result"
    }
   ],
   "source": [
    "enrondf[enrondf.loc[:,enrondf.columns!='poi'].isnull().all(axis=1)]"
   ]
  },
  {
   "cell_type": "code",
   "execution_count": 52,
   "metadata": {
    "collapsed": true
   },
   "outputs": [],
   "source": [
    "enrondf.drop('LOCKHART EUGENE E', inplace = True)"
   ]
  },
  {
   "cell_type": "code",
   "execution_count": 53,
   "metadata": {},
   "outputs": [
    {
     "data": {
      "text/plain": [
       "1338"
      ]
     },
     "execution_count": 53,
     "metadata": {},
     "output_type": "execute_result"
    }
   ],
   "source": [
    "enrondf.isnull().sum().sum()"
   ]
  },
  {
   "cell_type": "markdown",
   "metadata": {},
   "source": [
    "To deal with the rest of the NaNs, I looked around and found that the PDF documentation in the project folder advices to consider all financial data with NaN as 0 and so I went ahead and filled them all with 0. But, there are also some non-finance related fields that have NaNs in them and to handle such email fields, I chose to impute them with the mean of the  values of that field."
   ]
  },
  {
   "cell_type": "code",
   "execution_count": 54,
   "metadata": {},
   "outputs": [],
   "source": [
    "email_data = ['to_messages',\n",
    "              'from_messages',\n",
    "              'from_poi_to_this_person',\n",
    "              'from_this_person_to_poi',\n",
    "              'shared_receipt_with_poi']\n",
    "\n",
    "enrondf_poi = enrondf[enrondf['poi'] == True];\n",
    "enrondf_nonpoi = enrondf[enrondf['poi']==False]\n",
    "\n",
    "from sklearn.preprocessing import Imputer\n",
    "\n",
    "# Fill in the NaN email data with the mean of column grouped by poi/ non_poi\n",
    "imp = Imputer(missing_values='NaN', strategy = 'mean', axis=0)\n",
    "\n",
    "enrondf_poi.loc[:, email_data] = imp.fit_transform(enrondf_poi.loc[:,email_data]);\n",
    "enrondf_nonpoi.loc[:, email_data] = imp.fit_transform(enrondf_nonpoi.loc[:,email_data]);\n",
    "enrondf = enrondf_poi.append(enrondf_nonpoi)"
   ]
  },
  {
   "cell_type": "code",
   "execution_count": 55,
   "metadata": {
    "collapsed": true
   },
   "outputs": [],
   "source": [
    "# Replacing 'NaN' in financial features with 0\n",
    "enrondf = enrondf.fillna(0)"
   ]
  },
  {
   "cell_type": "markdown",
   "metadata": {},
   "source": [
    "The PDF documentation in the project folder also advices to consider all financial data with NaN as 0 and so I went ahead and filled them all with 0."
   ]
  },
  {
   "cell_type": "markdown",
   "metadata": {},
   "source": [
    "I wanted to make sure that all the payments or expenses put together matches the total for each executive and also pull out the ones that don't match. \n",
    "\n",
    "There seem to be 2 executives that do not match their total payments and after further investigation into their stock options, that doesn't seem to sum up either. "
   ]
  },
  {
   "cell_type": "code",
   "execution_count": 56,
   "metadata": {},
   "outputs": [
    {
     "data": {
      "text/html": [
       "<div>\n",
       "<style>\n",
       "    .dataframe thead tr:only-child th {\n",
       "        text-align: right;\n",
       "    }\n",
       "\n",
       "    .dataframe thead th {\n",
       "        text-align: left;\n",
       "    }\n",
       "\n",
       "    .dataframe tbody tr th {\n",
       "        vertical-align: top;\n",
       "    }\n",
       "</style>\n",
       "<table border=\"1\" class=\"dataframe\">\n",
       "  <thead>\n",
       "    <tr style=\"text-align: right;\">\n",
       "      <th></th>\n",
       "      <th>salary</th>\n",
       "      <th>to_messages</th>\n",
       "      <th>deferral_payments</th>\n",
       "      <th>total_payments</th>\n",
       "      <th>exercised_stock_options</th>\n",
       "      <th>bonus</th>\n",
       "      <th>restricted_stock</th>\n",
       "      <th>shared_receipt_with_poi</th>\n",
       "      <th>restricted_stock_deferred</th>\n",
       "      <th>total_stock_value</th>\n",
       "      <th>...</th>\n",
       "      <th>loan_advances</th>\n",
       "      <th>from_messages</th>\n",
       "      <th>other</th>\n",
       "      <th>from_this_person_to_poi</th>\n",
       "      <th>poi</th>\n",
       "      <th>director_fees</th>\n",
       "      <th>deferred_income</th>\n",
       "      <th>long_term_incentive</th>\n",
       "      <th>email_address</th>\n",
       "      <th>from_poi_to_this_person</th>\n",
       "    </tr>\n",
       "  </thead>\n",
       "  <tbody>\n",
       "    <tr>\n",
       "      <th>BELFER ROBERT</th>\n",
       "      <td>0.0</td>\n",
       "      <td>2007.111111</td>\n",
       "      <td>-102500.0</td>\n",
       "      <td>102500.0</td>\n",
       "      <td>3285.0</td>\n",
       "      <td>0.0</td>\n",
       "      <td>0.0</td>\n",
       "      <td>1058.527778</td>\n",
       "      <td>44093.0</td>\n",
       "      <td>-44093.0</td>\n",
       "      <td>...</td>\n",
       "      <td>0.0</td>\n",
       "      <td>668.763889</td>\n",
       "      <td>0.0</td>\n",
       "      <td>36.277778</td>\n",
       "      <td>False</td>\n",
       "      <td>3285.0</td>\n",
       "      <td>0.0</td>\n",
       "      <td>0.0</td>\n",
       "      <td>0</td>\n",
       "      <td>58.5</td>\n",
       "    </tr>\n",
       "    <tr>\n",
       "      <th>BHATNAGAR SANJAY</th>\n",
       "      <td>0.0</td>\n",
       "      <td>523.000000</td>\n",
       "      <td>0.0</td>\n",
       "      <td>15456290.0</td>\n",
       "      <td>2604490.0</td>\n",
       "      <td>0.0</td>\n",
       "      <td>-2604490.0</td>\n",
       "      <td>463.000000</td>\n",
       "      <td>15456290.0</td>\n",
       "      <td>0.0</td>\n",
       "      <td>...</td>\n",
       "      <td>0.0</td>\n",
       "      <td>29.000000</td>\n",
       "      <td>137864.0</td>\n",
       "      <td>1.000000</td>\n",
       "      <td>False</td>\n",
       "      <td>137864.0</td>\n",
       "      <td>0.0</td>\n",
       "      <td>0.0</td>\n",
       "      <td>sanjay.bhatnagar@enron.com</td>\n",
       "      <td>0.0</td>\n",
       "    </tr>\n",
       "  </tbody>\n",
       "</table>\n",
       "<p>2 rows × 21 columns</p>\n",
       "</div>"
      ],
      "text/plain": [
       "                  salary  to_messages  deferral_payments  total_payments  \\\n",
       "BELFER ROBERT        0.0  2007.111111          -102500.0        102500.0   \n",
       "BHATNAGAR SANJAY     0.0   523.000000                0.0      15456290.0   \n",
       "\n",
       "                  exercised_stock_options  bonus  restricted_stock  \\\n",
       "BELFER ROBERT                      3285.0    0.0               0.0   \n",
       "BHATNAGAR SANJAY                2604490.0    0.0        -2604490.0   \n",
       "\n",
       "                  shared_receipt_with_poi  restricted_stock_deferred  \\\n",
       "BELFER ROBERT                 1058.527778                    44093.0   \n",
       "BHATNAGAR SANJAY               463.000000                 15456290.0   \n",
       "\n",
       "                  total_stock_value           ...            loan_advances  \\\n",
       "BELFER ROBERT              -44093.0           ...                      0.0   \n",
       "BHATNAGAR SANJAY                0.0           ...                      0.0   \n",
       "\n",
       "                  from_messages     other  from_this_person_to_poi    poi  \\\n",
       "BELFER ROBERT        668.763889       0.0                36.277778  False   \n",
       "BHATNAGAR SANJAY      29.000000  137864.0                 1.000000  False   \n",
       "\n",
       "                  director_fees  deferred_income  long_term_incentive  \\\n",
       "BELFER ROBERT            3285.0              0.0                  0.0   \n",
       "BHATNAGAR SANJAY       137864.0              0.0                  0.0   \n",
       "\n",
       "                               email_address from_poi_to_this_person  \n",
       "BELFER ROBERT                              0                    58.5  \n",
       "BHATNAGAR SANJAY  sanjay.bhatnagar@enron.com                     0.0  \n",
       "\n",
       "[2 rows x 21 columns]"
      ]
     },
     "execution_count": 56,
     "metadata": {},
     "output_type": "execute_result"
    }
   ],
   "source": [
    "#check data: summing payments features and compare with total_payments\n",
    "payments = ['salary',\n",
    "            'bonus', \n",
    "            'long_term_incentive', \n",
    "            'deferred_income', \n",
    "            'deferral_payments',\n",
    "            'loan_advances', \n",
    "            'other',\n",
    "            'expenses', \n",
    "            'director_fees']\n",
    "enrondf[enrondf[payments].sum(axis='columns') != enrondf.total_payments]"
   ]
  },
  {
   "cell_type": "code",
   "execution_count": 57,
   "metadata": {},
   "outputs": [
    {
     "data": {
      "text/html": [
       "<div>\n",
       "<style>\n",
       "    .dataframe thead tr:only-child th {\n",
       "        text-align: right;\n",
       "    }\n",
       "\n",
       "    .dataframe thead th {\n",
       "        text-align: left;\n",
       "    }\n",
       "\n",
       "    .dataframe tbody tr th {\n",
       "        vertical-align: top;\n",
       "    }\n",
       "</style>\n",
       "<table border=\"1\" class=\"dataframe\">\n",
       "  <thead>\n",
       "    <tr style=\"text-align: right;\">\n",
       "      <th></th>\n",
       "      <th>salary</th>\n",
       "      <th>to_messages</th>\n",
       "      <th>deferral_payments</th>\n",
       "      <th>total_payments</th>\n",
       "      <th>exercised_stock_options</th>\n",
       "      <th>bonus</th>\n",
       "      <th>restricted_stock</th>\n",
       "      <th>shared_receipt_with_poi</th>\n",
       "      <th>restricted_stock_deferred</th>\n",
       "      <th>total_stock_value</th>\n",
       "      <th>...</th>\n",
       "      <th>loan_advances</th>\n",
       "      <th>from_messages</th>\n",
       "      <th>other</th>\n",
       "      <th>from_this_person_to_poi</th>\n",
       "      <th>poi</th>\n",
       "      <th>director_fees</th>\n",
       "      <th>deferred_income</th>\n",
       "      <th>long_term_incentive</th>\n",
       "      <th>email_address</th>\n",
       "      <th>from_poi_to_this_person</th>\n",
       "    </tr>\n",
       "  </thead>\n",
       "  <tbody>\n",
       "    <tr>\n",
       "      <th>BELFER ROBERT</th>\n",
       "      <td>0.0</td>\n",
       "      <td>2007.111111</td>\n",
       "      <td>-102500.0</td>\n",
       "      <td>102500.0</td>\n",
       "      <td>3285.0</td>\n",
       "      <td>0.0</td>\n",
       "      <td>0.0</td>\n",
       "      <td>1058.527778</td>\n",
       "      <td>44093.0</td>\n",
       "      <td>-44093.0</td>\n",
       "      <td>...</td>\n",
       "      <td>0.0</td>\n",
       "      <td>668.763889</td>\n",
       "      <td>0.0</td>\n",
       "      <td>36.277778</td>\n",
       "      <td>False</td>\n",
       "      <td>3285.0</td>\n",
       "      <td>0.0</td>\n",
       "      <td>0.0</td>\n",
       "      <td>0</td>\n",
       "      <td>58.5</td>\n",
       "    </tr>\n",
       "    <tr>\n",
       "      <th>BHATNAGAR SANJAY</th>\n",
       "      <td>0.0</td>\n",
       "      <td>523.000000</td>\n",
       "      <td>0.0</td>\n",
       "      <td>15456290.0</td>\n",
       "      <td>2604490.0</td>\n",
       "      <td>0.0</td>\n",
       "      <td>-2604490.0</td>\n",
       "      <td>463.000000</td>\n",
       "      <td>15456290.0</td>\n",
       "      <td>0.0</td>\n",
       "      <td>...</td>\n",
       "      <td>0.0</td>\n",
       "      <td>29.000000</td>\n",
       "      <td>137864.0</td>\n",
       "      <td>1.000000</td>\n",
       "      <td>False</td>\n",
       "      <td>137864.0</td>\n",
       "      <td>0.0</td>\n",
       "      <td>0.0</td>\n",
       "      <td>sanjay.bhatnagar@enron.com</td>\n",
       "      <td>0.0</td>\n",
       "    </tr>\n",
       "  </tbody>\n",
       "</table>\n",
       "<p>2 rows × 21 columns</p>\n",
       "</div>"
      ],
      "text/plain": [
       "                  salary  to_messages  deferral_payments  total_payments  \\\n",
       "BELFER ROBERT        0.0  2007.111111          -102500.0        102500.0   \n",
       "BHATNAGAR SANJAY     0.0   523.000000                0.0      15456290.0   \n",
       "\n",
       "                  exercised_stock_options  bonus  restricted_stock  \\\n",
       "BELFER ROBERT                      3285.0    0.0               0.0   \n",
       "BHATNAGAR SANJAY                2604490.0    0.0        -2604490.0   \n",
       "\n",
       "                  shared_receipt_with_poi  restricted_stock_deferred  \\\n",
       "BELFER ROBERT                 1058.527778                    44093.0   \n",
       "BHATNAGAR SANJAY               463.000000                 15456290.0   \n",
       "\n",
       "                  total_stock_value           ...            loan_advances  \\\n",
       "BELFER ROBERT              -44093.0           ...                      0.0   \n",
       "BHATNAGAR SANJAY                0.0           ...                      0.0   \n",
       "\n",
       "                  from_messages     other  from_this_person_to_poi    poi  \\\n",
       "BELFER ROBERT        668.763889       0.0                36.277778  False   \n",
       "BHATNAGAR SANJAY      29.000000  137864.0                 1.000000  False   \n",
       "\n",
       "                  director_fees  deferred_income  long_term_incentive  \\\n",
       "BELFER ROBERT            3285.0              0.0                  0.0   \n",
       "BHATNAGAR SANJAY       137864.0              0.0                  0.0   \n",
       "\n",
       "                               email_address from_poi_to_this_person  \n",
       "BELFER ROBERT                              0                    58.5  \n",
       "BHATNAGAR SANJAY  sanjay.bhatnagar@enron.com                     0.0  \n",
       "\n",
       "[2 rows x 21 columns]"
      ]
     },
     "execution_count": 57,
     "metadata": {},
     "output_type": "execute_result"
    }
   ],
   "source": [
    "stock_value = ['exercised_stock_options',\n",
    "                'restricted_stock',\n",
    "                'restricted_stock_deferred']\n",
    "enrondf[enrondf[stock_value].sum(axis='columns') != enrondf.total_stock_value]"
   ]
  },
  {
   "cell_type": "code",
   "execution_count": 58,
   "metadata": {},
   "outputs": [
    {
     "data": {
      "text/plain": [
       "salary                                                0\n",
       "to_messages                                         523\n",
       "deferral_payments                                     0\n",
       "total_payments                                   137864\n",
       "exercised_stock_options                     1.54563e+07\n",
       "bonus                                                 0\n",
       "restricted_stock                            2.60449e+06\n",
       "shared_receipt_with_poi                             463\n",
       "restricted_stock_deferred                  -2.60449e+06\n",
       "total_stock_value                           1.54563e+07\n",
       "expenses                                         137864\n",
       "loan_advances                                         0\n",
       "from_messages                                        29\n",
       "other                                                 0\n",
       "from_this_person_to_poi                               1\n",
       "poi                                               False\n",
       "director_fees                                         0\n",
       "deferred_income                                       0\n",
       "long_term_incentive                                   0\n",
       "email_address                sanjay.bhatnagar@enron.com\n",
       "from_poi_to_this_person                               0\n",
       "Name: BHATNAGAR SANJAY, dtype: object"
      ]
     },
     "execution_count": 58,
     "metadata": {},
     "output_type": "execute_result"
    }
   ],
   "source": [
    "#Adjusting the executives' payment and stock data\n",
    "\n",
    "enrondf.loc['BELFER ROBERT','total_payments'] = 3285\n",
    "enrondf.loc['BELFER ROBERT','deferral_payments'] = 0\n",
    "enrondf.loc['BELFER ROBERT','restricted_stock'] = 44093\n",
    "enrondf.loc['BELFER ROBERT','restricted_stock_deferred'] = -44093\n",
    "enrondf.loc['BELFER ROBERT','total_stock_value'] = 0\n",
    "enrondf.loc['BELFER ROBERT','director_fees'] = 102500\n",
    "enrondf.loc['BELFER ROBERT','deferred_income'] = -102500\n",
    "enrondf.loc['BELFER ROBERT','exercised_stock_options'] = 0\n",
    "enrondf.loc['BELFER ROBERT','expenses'] = 3285\n",
    "enrondf.loc['BELFER ROBERT']\n",
    "enrondf.loc['BHATNAGAR SANJAY','expenses'] = 137864\n",
    "enrondf.loc['BHATNAGAR SANJAY','total_payments'] = 137864\n",
    "enrondf.loc['BHATNAGAR SANJAY','exercised_stock_options'] = 1.54563e+07\n",
    "enrondf.loc['BHATNAGAR SANJAY','restricted_stock'] = 2.60449e+06\n",
    "enrondf.loc['BHATNAGAR SANJAY','restricted_stock_deferred'] = -2.60449e+06\n",
    "enrondf.loc['BHATNAGAR SANJAY','other'] = 0\n",
    "enrondf.loc['BHATNAGAR SANJAY','director_fees'] = 0\n",
    "enrondf.loc['BHATNAGAR SANJAY','total_stock_value'] = 1.54563e+07\n",
    "enrondf.loc['BHATNAGAR SANJAY']"
   ]
  },
  {
   "cell_type": "markdown",
   "metadata": {},
   "source": [
    "I also found something by the name THE TRAVEL AGENCY IN THE PARK which doesn't look like an executive but an agency and since we're only interested in finding potential POI, I'm going ahead and dropping this record as well. "
   ]
  },
  {
   "cell_type": "code",
   "execution_count": 59,
   "metadata": {
    "collapsed": true
   },
   "outputs": [],
   "source": [
    "enrondf.drop('THE TRAVEL AGENCY IN THE PARK', inplace=True)"
   ]
  },
  {
   "cell_type": "code",
   "execution_count": 60,
   "metadata": {},
   "outputs": [
    {
     "data": {
      "text/plain": [
       "<matplotlib.legend.Legend at 0xbae8208>"
      ]
     },
     "execution_count": 60,
     "metadata": {},
     "output_type": "execute_result"
    },
    {
     "data": {
      "image/png": "[encoded data removed]",
      "text/plain": [
       "<matplotlib.figure.Figure at 0xc45cb70>"
      ]
     },
     "metadata": {},
     "output_type": "display_data"
    }
   ],
   "source": [
    "pois = enrondf[enrondf.poi]\n",
    "plt.scatter(pois[\"salary\"], pois[\"bonus\"], c='red');\n",
    "nonpois = enrondf[~enrondf.poi]\n",
    "plt.scatter(nonpois[\"salary\"], nonpois[\"bonus\"], c='blue');\n",
    "plt.xlabel(\"Salary\")\n",
    "plt.ylabel(\"Bonus\")\n",
    "\n",
    "plt.legend([\"POI\",\"Not a POI\"])"
   ]
  },
  {
   "cell_type": "markdown",
   "metadata": {},
   "source": [
    "Plotting the salary and bonuses of all the executives on a simple scatter plot immediately brings one outlier to our attention and looking at the executives with salary above $2M, it is very clear that the record which says Total is actually just the total of all the executives salary put together. \n",
    "\n",
    "Since, this is unnecessary for our model and might even skew the algorithm, I'm dropping this record as well."
   ]
  },
  {
   "cell_type": "code",
   "execution_count": 61,
   "metadata": {},
   "outputs": [
    {
     "data": {
      "text/html": [
       "<div>\n",
       "<style>\n",
       "    .dataframe thead tr:only-child th {\n",
       "        text-align: right;\n",
       "    }\n",
       "\n",
       "    .dataframe thead th {\n",
       "        text-align: left;\n",
       "    }\n",
       "\n",
       "    .dataframe tbody tr th {\n",
       "        vertical-align: top;\n",
       "    }\n",
       "</style>\n",
       "<table border=\"1\" class=\"dataframe\">\n",
       "  <thead>\n",
       "    <tr style=\"text-align: right;\">\n",
       "      <th></th>\n",
       "      <th>salary</th>\n",
       "      <th>to_messages</th>\n",
       "      <th>deferral_payments</th>\n",
       "      <th>total_payments</th>\n",
       "      <th>exercised_stock_options</th>\n",
       "      <th>bonus</th>\n",
       "      <th>restricted_stock</th>\n",
       "      <th>shared_receipt_with_poi</th>\n",
       "      <th>restricted_stock_deferred</th>\n",
       "      <th>total_stock_value</th>\n",
       "      <th>...</th>\n",
       "      <th>loan_advances</th>\n",
       "      <th>from_messages</th>\n",
       "      <th>other</th>\n",
       "      <th>from_this_person_to_poi</th>\n",
       "      <th>poi</th>\n",
       "      <th>director_fees</th>\n",
       "      <th>deferred_income</th>\n",
       "      <th>long_term_incentive</th>\n",
       "      <th>email_address</th>\n",
       "      <th>from_poi_to_this_person</th>\n",
       "    </tr>\n",
       "  </thead>\n",
       "  <tbody>\n",
       "    <tr>\n",
       "      <th>TOTAL</th>\n",
       "      <td>26704229.0</td>\n",
       "      <td>2007.111111</td>\n",
       "      <td>32083396.0</td>\n",
       "      <td>309886585.0</td>\n",
       "      <td>311764000.0</td>\n",
       "      <td>97343619.0</td>\n",
       "      <td>130322299.0</td>\n",
       "      <td>1058.527778</td>\n",
       "      <td>-7576788.0</td>\n",
       "      <td>434509511.0</td>\n",
       "      <td>...</td>\n",
       "      <td>83925000.0</td>\n",
       "      <td>668.763889</td>\n",
       "      <td>42667589.0</td>\n",
       "      <td>36.277778</td>\n",
       "      <td>False</td>\n",
       "      <td>1398517.0</td>\n",
       "      <td>-27992891.0</td>\n",
       "      <td>48521928.0</td>\n",
       "      <td>0</td>\n",
       "      <td>58.5</td>\n",
       "    </tr>\n",
       "  </tbody>\n",
       "</table>\n",
       "<p>1 rows × 21 columns</p>\n",
       "</div>"
      ],
      "text/plain": [
       "           salary  to_messages  deferral_payments  total_payments  \\\n",
       "TOTAL  26704229.0  2007.111111         32083396.0     309886585.0   \n",
       "\n",
       "       exercised_stock_options       bonus  restricted_stock  \\\n",
       "TOTAL              311764000.0  97343619.0       130322299.0   \n",
       "\n",
       "       shared_receipt_with_poi  restricted_stock_deferred  total_stock_value  \\\n",
       "TOTAL              1058.527778                 -7576788.0        434509511.0   \n",
       "\n",
       "                ...            loan_advances  from_messages       other  \\\n",
       "TOTAL           ...               83925000.0     668.763889  42667589.0   \n",
       "\n",
       "       from_this_person_to_poi    poi  director_fees  deferred_income  \\\n",
       "TOTAL                36.277778  False      1398517.0      -27992891.0   \n",
       "\n",
       "       long_term_incentive  email_address from_poi_to_this_person  \n",
       "TOTAL           48521928.0              0                    58.5  \n",
       "\n",
       "[1 rows x 21 columns]"
      ]
     },
     "execution_count": 61,
     "metadata": {},
     "output_type": "execute_result"
    }
   ],
   "source": [
    "#Identifying outliers by looking at the top earners\n",
    "enrondf[enrondf.loc[:,\"salary\"]>2000000]"
   ]
  },
  {
   "cell_type": "code",
   "execution_count": 62,
   "metadata": {
    "collapsed": true
   },
   "outputs": [],
   "source": [
    "#Drop Total as it looks like the total of everybody's salaries\n",
    "enrondf = enrondf.drop(\"TOTAL\")"
   ]
  },
  {
   "cell_type": "code",
   "execution_count": 63,
   "metadata": {},
   "outputs": [
    {
     "data": {
      "text/plain": [
       "<matplotlib.legend.Legend at 0xc4e70b8>"
      ]
     },
     "execution_count": 63,
     "metadata": {},
     "output_type": "execute_result"
    },
    {
     "data": {
      "image/png": "[encoded data removed]",
      "text/plain": [
       "<matplotlib.figure.Figure at 0xc320470>"
      ]
     },
     "metadata": {},
     "output_type": "display_data"
    }
   ],
   "source": [
    "pois = enrondf[enrondf.poi]\n",
    "plt.scatter(pois[\"salary\"], pois[\"bonus\"], c='red');\n",
    "nonpois = enrondf[~enrondf.poi]\n",
    "plt.scatter(nonpois[\"salary\"], nonpois[\"bonus\"], c='blue');\n",
    "plt.xlabel(\"Salary\")\n",
    "plt.ylabel(\"Bonus\")\n",
    "\n",
    "plt.legend([\"POI\",\"Not a POI\"])\n",
    "\n",
    "#Mark Frevert although not a POI seems to have made a lot of money from Enron\n",
    "#Difficult to use K_means as clustering might not give the best result here"
   ]
  },
  {
   "cell_type": "code",
   "execution_count": 64,
   "metadata": {
    "collapsed": true
   },
   "outputs": [],
   "source": [
    "# Remove the outlier individuals , 'BAXTER JOHN C'\n",
    "#enrondf.drop(axis=0, labels=['FREVERT MARK A', 'LAVORATO JOHN J', 'WHALLEY LAWRENCE G'], inplace=True)"
   ]
  },
  {
   "cell_type": "code",
   "execution_count": 65,
   "metadata": {},
   "outputs": [
    {
     "name": "stdout",
     "output_type": "stream",
     "text": [
      "Number of executives: 143\n",
      "Number of Features: 21\n",
      "Number of POIs: 18\n"
     ]
    }
   ],
   "source": [
    "#Final numbers before moving onto modeling algorithms\n",
    "print 'Number of executives:', len(enrondf)\n",
    "print 'Number of Features:', len(enrondf.keys())\n",
    "\n",
    "print 'Number of POIs:', len(enrondf.loc[enrondf.loc[:,\"poi\"]==True])"
   ]
  },
  {
   "cell_type": "code",
   "execution_count": 66,
   "metadata": {},
   "outputs": [
    {
     "data": {
      "text/plain": [
       "1186"
      ]
     },
     "execution_count": 66,
     "metadata": {},
     "output_type": "execute_result"
    }
   ],
   "source": [
    "enrondf[enrondf==0].count().sum()"
   ]
  },
  {
   "cell_type": "code",
   "execution_count": 67,
   "metadata": {
    "collapsed": true
   },
   "outputs": [],
   "source": [
    "from sklearn.preprocessing import scale\n",
    "from sklearn.naive_bayes import GaussianNB\n",
    "from sklearn.tree import DecisionTreeClassifier\n",
    "from sklearn.svm import SVC\n",
    "from sklearn.cluster import KMeans\n",
    "from sklearn.ensemble import AdaBoostClassifier, RandomForestClassifier, ExtraTreesClassifier\n",
    "from sklearn.neighbors import KNeighborsClassifier\n",
    "\n",
    "def set_classifier(x):\n",
    "    # switch statement Python replacement - http://stackoverflow.com/a/103081\n",
    "    return {\n",
    "        'rfc': RandomForestClassifier(),\n",
    "        'dtr': DecisionTreeClassifier(),\n",
    "        'gnb': GaussianNB(),\n",
    "        'kn': KNeighborsClassifier(2),\n",
    "        'ada': AdaBoostClassifier(),\n",
    "        'xtra': ExtraTreesClassifier(),\n",
    "        'km': KMeans(n_clusters=2, random_state=0)\n",
    "    }.get(x)"
   ]
  },
  {
   "cell_type": "code",
   "execution_count": 68,
   "metadata": {},
   "outputs": [
    {
     "name": "stdout",
     "output_type": "stream",
     "text": [
      "RandomForestClassifier(bootstrap=True, class_weight=None, criterion='gini',\n",
      "            max_depth=None, max_features='auto', max_leaf_nodes=None,\n",
      "            min_impurity_decrease=0.0, min_impurity_split=None,\n",
      "            min_samples_leaf=1, min_samples_split=2,\n",
      "            min_weight_fraction_leaf=0.0, n_estimators=10, n_jobs=1,\n",
      "            oob_score=False, random_state=None, verbose=0,\n",
      "            warm_start=False)\n",
      "\tAccuracy: 0.86853\tPrecision: 0.52059\tRecall: 0.17700\tF1: 0.26418\tF2: 0.20392\n",
      "\tTotal predictions: 15000\tTrue positives:  354\tFalse positives:  326\tFalse negatives: 1646\tTrue negatives: 12674\n",
      "\n",
      "DecisionTreeClassifier(class_weight=None, criterion='gini', max_depth=None,\n",
      "            max_features=None, max_leaf_nodes=None,\n",
      "            min_impurity_decrease=0.0, min_impurity_split=None,\n",
      "            min_samples_leaf=1, min_samples_split=2,\n",
      "            min_weight_fraction_leaf=0.0, presort=False, random_state=None,\n",
      "            splitter='best')\n",
      "\tAccuracy: 0.82093\tPrecision: 0.33170\tRecall: 0.33800\tF1: 0.33482\tF2: 0.33672\n",
      "\tTotal predictions: 15000\tTrue positives:  676\tFalse positives: 1362\tFalse negatives: 1324\tTrue negatives: 11638\n",
      "\n",
      "GaussianNB(priors=None)\n",
      "\tAccuracy: 0.76747\tPrecision: 0.25134\tRecall: 0.37600\tF1: 0.30128\tF2: 0.34207\n",
      "\tTotal predictions: 15000\tTrue positives:  752\tFalse positives: 2240\tFalse negatives: 1248\tTrue negatives: 10760\n",
      "\n",
      "KNeighborsClassifier(algorithm='auto', leaf_size=30, metric='minkowski',\n",
      "           metric_params=None, n_jobs=1, n_neighbors=2, p=2,\n",
      "           weights='uniform')\n",
      "\tAccuracy: 0.86067\tPrecision: 0.35849\tRecall: 0.05700\tF1: 0.09836\tF2: 0.06853\n",
      "\tTotal predictions: 15000\tTrue positives:  114\tFalse positives:  204\tFalse negatives: 1886\tTrue negatives: 12796\n",
      "\n",
      "AdaBoostClassifier(algorithm='SAMME.R', base_estimator=None,\n",
      "          learning_rate=1.0, n_estimators=50, random_state=None)\n",
      "\tAccuracy: 0.86460\tPrecision: 0.48921\tRecall: 0.35150\tF1: 0.40908\tF2: 0.37247\n",
      "\tTotal predictions: 15000\tTrue positives:  703\tFalse positives:  734\tFalse negatives: 1297\tTrue negatives: 12266\n",
      "\n",
      "ExtraTreesClassifier(bootstrap=False, class_weight=None, criterion='gini',\n",
      "           max_depth=None, max_features='auto', max_leaf_nodes=None,\n",
      "           min_impurity_decrease=0.0, min_impurity_split=None,\n",
      "           min_samples_leaf=1, min_samples_split=2,\n",
      "           min_weight_fraction_leaf=0.0, n_estimators=10, n_jobs=1,\n",
      "           oob_score=False, random_state=None, verbose=0, warm_start=False)\n",
      "\tAccuracy: 0.86973\tPrecision: 0.53286\tRecall: 0.18650\tF1: 0.27630\tF2: 0.21437\n",
      "\tTotal predictions: 15000\tTrue positives:  373\tFalse positives:  327\tFalse negatives: 1627\tTrue negatives: 12673\n",
      "\n",
      "KMeans(algorithm='auto', copy_x=True, init='k-means++', max_iter=300,\n",
      "    n_clusters=2, n_init=10, n_jobs=1, precompute_distances='auto',\n",
      "    random_state=0, tol=0.0001, verbose=0)\n",
      "\tAccuracy: 0.83560\tPrecision: 0.21723\tRecall: 0.08950\tF1: 0.12677\tF2: 0.10143\n",
      "\tTotal predictions: 15000\tTrue positives:  179\tFalse positives:  645\tFalse negatives: 1821\tTrue negatives: 12355\n",
      "\n"
     ]
    }
   ],
   "source": [
    "import tester\n",
    "\n",
    "my_dataset = enrondf[features_list].to_dict(orient='index')\n",
    "\n",
    "#Test for all the algorithms defined earlier\n",
    "for classifier in ['rfc','dtr','gnb','kn','ada','xtra','km']:\n",
    "    clf = set_classifier(classifier)\n",
    "    tester.dump_classifier_and_data(clf, my_dataset, features_list)\n",
    "    tester.main();"
   ]
  },
  {
   "cell_type": "markdown",
   "metadata": {},
   "source": [
    "##### the results are summarized below:\n",
    "\n",
    "| Classifier            | Precision | Recall  | F1 Score | Accuracy |\n",
    "|-----------------------|-----------|---------|----------|----------|\n",
    "| RandomForest          | 0.55      | 0.17    | 0.27     | 0.87     |\n",
    "| GaussianNB            | 0.23      | 0.37    | 0.30     | 0.76     |\n",
    "| DecisionTree          | 0.33      | 0.34    | 0.33     | 0.82     |\n",
    "| KNeighbors            | 0.35      | 0.05    | 0.09     | 0.86     |\n",
    "| AdaBoost              | 0.48      | 0.35    | 0.40     | 0.86     |\n",
    "| ExtraTrees            | 0.50      | 0.17    | 0.26     | 0.86     |\n",
    "| KMeans (n_clusters=2) | 0.21      | 0.08    | 0.12     | 0.83     |"
   ]
  },
  {
   "cell_type": "markdown",
   "metadata": {},
   "source": [
    "I already have some good numbers with an initial run on a set of 8 algorithms and the best performing so far considering both accuracy and F1 score seems to be AdaBoost and DecisionTree.\n",
    "\n",
    "### Feature Engineering\n",
    "\n",
    "Now, I want to add a few features to the feature list to try and see how these new features would affect the accuracy and scores of all the above algorithms. \n",
    "\n",
    "I add 3 new features \n",
    "                     * fraction_from_poi - ratio of emails from poi to this person\n",
    "                     * fraction_to_poi - ratio of emails from this person to poi\n",
    "                     * fraction_shared_receipt - share receipt with poi and this person\n",
    "                     "
   ]
  },
  {
   "cell_type": "code",
   "execution_count": 69,
   "metadata": {},
   "outputs": [
    {
     "name": "stdout",
     "output_type": "stream",
     "text": [
      "RandomForestClassifier(bootstrap=True, class_weight=None, criterion='gini',\n",
      "            max_depth=None, max_features='auto', max_leaf_nodes=None,\n",
      "            min_impurity_decrease=0.0, min_impurity_split=None,\n",
      "            min_samples_leaf=1, min_samples_split=2,\n",
      "            min_weight_fraction_leaf=0.0, n_estimators=10, n_jobs=1,\n",
      "            oob_score=False, random_state=None, verbose=0,\n",
      "            warm_start=False)\n",
      "\tAccuracy: 0.88587\tPrecision: 0.68367\tRecall: 0.26800\tF1: 0.38506\tF2: 0.30510\n",
      "\tTotal predictions: 15000\tTrue positives:  536\tFalse positives:  248\tFalse negatives: 1464\tTrue negatives: 12752\n",
      "\n",
      "DecisionTreeClassifier(class_weight=None, criterion='gini', max_depth=None,\n",
      "            max_features=None, max_leaf_nodes=None,\n",
      "            min_impurity_decrease=0.0, min_impurity_split=None,\n",
      "            min_samples_leaf=1, min_samples_split=2,\n",
      "            min_weight_fraction_leaf=0.0, presort=False, random_state=None,\n",
      "            splitter='best')\n",
      "\tAccuracy: 0.89820\tPrecision: 0.62184\tRecall: 0.60350\tF1: 0.61253\tF2: 0.60708\n",
      "\tTotal predictions: 15000\tTrue positives: 1207\tFalse positives:  734\tFalse negatives:  793\tTrue negatives: 12266\n",
      "\n",
      "GaussianNB(priors=None)\n",
      "\tAccuracy: 0.76747\tPrecision: 0.25134\tRecall: 0.37600\tF1: 0.30128\tF2: 0.34207\n",
      "\tTotal predictions: 15000\tTrue positives:  752\tFalse positives: 2240\tFalse negatives: 1248\tTrue negatives: 10760\n",
      "\n",
      "KNeighborsClassifier(algorithm='auto', leaf_size=30, metric='minkowski',\n",
      "           metric_params=None, n_jobs=1, n_neighbors=2, p=2,\n",
      "           weights='uniform')\n",
      "\tAccuracy: 0.86067\tPrecision: 0.35849\tRecall: 0.05700\tF1: 0.09836\tF2: 0.06853\n",
      "\tTotal predictions: 15000\tTrue positives:  114\tFalse positives:  204\tFalse negatives: 1886\tTrue negatives: 12796\n",
      "\n",
      "AdaBoostClassifier(algorithm='SAMME.R', base_estimator=None,\n",
      "          learning_rate=1.0, n_estimators=50, random_state=None)\n",
      "\tAccuracy: 0.89960\tPrecision: 0.65172\tRecall: 0.53050\tF1: 0.58490\tF2: 0.55100\n",
      "\tTotal predictions: 15000\tTrue positives: 1061\tFalse positives:  567\tFalse negatives:  939\tTrue negatives: 12433\n",
      "\n",
      "ExtraTreesClassifier(bootstrap=False, class_weight=None, criterion='gini',\n",
      "           max_depth=None, max_features='auto', max_leaf_nodes=None,\n",
      "           min_impurity_decrease=0.0, min_impurity_split=None,\n",
      "           min_samples_leaf=1, min_samples_split=2,\n",
      "           min_weight_fraction_leaf=0.0, n_estimators=10, n_jobs=1,\n",
      "           oob_score=False, random_state=None, verbose=0, warm_start=False)\n",
      "\tAccuracy: 0.87973\tPrecision: 0.61695\tRecall: 0.25850\tF1: 0.36434\tF2: 0.29249\n",
      "\tTotal predictions: 15000\tTrue positives:  517\tFalse positives:  321\tFalse negatives: 1483\tTrue negatives: 12679\n",
      "\n",
      "KMeans(algorithm='auto', copy_x=True, init='k-means++', max_iter=300,\n",
      "    n_clusters=2, n_init=10, n_jobs=1, precompute_distances='auto',\n",
      "    random_state=0, tol=0.0001, verbose=0)\n",
      "\tAccuracy: 0.83560\tPrecision: 0.21723\tRecall: 0.08950\tF1: 0.12677\tF2: 0.10143\n",
      "\tTotal predictions: 15000\tTrue positives:  179\tFalse positives:  645\tFalse negatives: 1821\tTrue negatives: 12355\n",
      "\n"
     ]
    }
   ],
   "source": [
    "### Task 3: Create new feature(s)\n",
    "enrondf['fraction_from_poi'] = enrondf['from_poi_to_this_person'] / enrondf['to_messages']\n",
    "enrondf['fraction_to_poi'] = enrondf['from_this_person_to_poi'] / enrondf['from_messages']\n",
    "enrondf['fraction_shared_receipt'] = enrondf['shared_receipt_with_poi'] / enrondf['to_messages']\n",
    "\n",
    "features_list.append('fraction_from_poi')\n",
    "features_list.append('fraction_to_poi')\n",
    "features_list.append('fraction_shared_receipt')\n",
    "\n",
    "# Replacing 'NaN' in financial features with 0\n",
    "enrondf = enrondf.fillna(0)\n",
    "\n",
    "\n",
    "# back into dict\n",
    "data_dict = enrondf.to_dict(orient='index')\n",
    "\n",
    "for classifier in ['rfc','dtr','gnb','kn','ada','xtra','km']:\n",
    "    clf = set_classifier(classifier)\n",
    "    tester.dump_classifier_and_data(clf, data_dict, features_list)\n",
    "    tester.main();"
   ]
  },
  {
   "cell_type": "markdown",
   "metadata": {},
   "source": [
    "the results for all of the algorithms have improved and are summarized below:\n",
    "\n",
    "| Classifier            | Precision | Recall  | F1 Score | Accuracy |\n",
    "|-----------------------|-----------|---------|----------|----------|\n",
    "| RandomForest          | 0.67      | 0.27    | 0.36     | 0.88     |\n",
    "| GaussianNB            | 0.25      | 0.37    | 0.30     | 0.76     |\n",
    "| DecisionTree          | 0.61      | 0.61    | 0.61     | 0.89     |\n",
    "| KNeighbors            | 0.35      | 0.05    | 0.09     | 0.86     |\n",
    "| AdaBoost              | 0.65      | 0.53    | 0.58     | 0.89     |\n",
    "| ExtraTrees            | 0.64      | 0.27    | 0.38     | 0.88     |\n",
    "| KMeans (n_clusters=2) | 0.21      | 0.08    | 0.12     | 0.83     |\n",
    "\n",
    "Adding these features to the list has improved the precision and recall scores of some of the algorithms."
   ]
  },
  {
   "cell_type": "markdown",
   "metadata": {},
   "source": [
    "I add 2 more features - \n",
    "                     * bonus_to_salary - ratio of bonus to salary\n",
    "                     * bonus_to_total - ratio of bonus to total payments\n",
    "\n",
    "I then run the algorithms defined earlier again with default parameters to see if adding these parameters has made any difference in the accuracy or/and score of the algorithms."
   ]
  },
  {
   "cell_type": "code",
   "execution_count": 70,
   "metadata": {
    "collapsed": true
   },
   "outputs": [],
   "source": [
    "# Create the new financial features and add to the dataframe\n",
    "enrondf['bonus_to_salary'] = enrondf['bonus'] / enrondf['salary']\n",
    "enrondf['bonus_to_total'] = enrondf['bonus'] / enrondf['total_payments']    \n",
    "\n",
    "features_list.append('bonus_to_salary')\n",
    "features_list.append('bonus_to_total')   "
   ]
  },
  {
   "cell_type": "code",
   "execution_count": 71,
   "metadata": {},
   "outputs": [
    {
     "name": "stdout",
     "output_type": "stream",
     "text": [
      "RandomForestClassifier(bootstrap=True, class_weight=None, criterion='gini',\n",
      "            max_depth=None, max_features='auto', max_leaf_nodes=None,\n",
      "            min_impurity_decrease=0.0, min_impurity_split=None,\n",
      "            min_samples_leaf=1, min_samples_split=2,\n",
      "            min_weight_fraction_leaf=0.0, n_estimators=10, n_jobs=1,\n",
      "            oob_score=False, random_state=None, verbose=0,\n",
      "            warm_start=False)\n",
      "\tAccuracy: 0.88133\tPrecision: 0.63580\tRecall: 0.25750\tF1: 0.36655\tF2: 0.29228\n",
      "\tTotal predictions: 15000\tTrue positives:  515\tFalse positives:  295\tFalse negatives: 1485\tTrue negatives: 12705\n",
      "\n",
      "DecisionTreeClassifier(class_weight=None, criterion='gini', max_depth=None,\n",
      "            max_features=None, max_leaf_nodes=None,\n",
      "            min_impurity_decrease=0.0, min_impurity_split=None,\n",
      "            min_samples_leaf=1, min_samples_split=2,\n",
      "            min_weight_fraction_leaf=0.0, presort=False, random_state=None,\n",
      "            splitter='best')\n",
      "\tAccuracy: 0.89953\tPrecision: 0.62661\tRecall: 0.61000\tF1: 0.61819\tF2: 0.61325\n",
      "\tTotal predictions: 15000\tTrue positives: 1220\tFalse positives:  727\tFalse negatives:  780\tTrue negatives: 12273\n",
      "\n",
      "GaussianNB(priors=None)\n",
      "\tAccuracy: 0.76747\tPrecision: 0.25134\tRecall: 0.37600\tF1: 0.30128\tF2: 0.34207\n",
      "\tTotal predictions: 15000\tTrue positives:  752\tFalse positives: 2240\tFalse negatives: 1248\tTrue negatives: 10760\n",
      "\n",
      "KNeighborsClassifier(algorithm='auto', leaf_size=30, metric='minkowski',\n",
      "           metric_params=None, n_jobs=1, n_neighbors=2, p=2,\n",
      "           weights='uniform')\n",
      "\tAccuracy: 0.86067\tPrecision: 0.35849\tRecall: 0.05700\tF1: 0.09836\tF2: 0.06853\n",
      "\tTotal predictions: 15000\tTrue positives:  114\tFalse positives:  204\tFalse negatives: 1886\tTrue negatives: 12796\n",
      "\n",
      "AdaBoostClassifier(algorithm='SAMME.R', base_estimator=None,\n",
      "          learning_rate=1.0, n_estimators=50, random_state=None)\n",
      "\tAccuracy: 0.89367\tPrecision: 0.62250\tRecall: 0.51450\tF1: 0.56337\tF2: 0.53299\n",
      "\tTotal predictions: 15000\tTrue positives: 1029\tFalse positives:  624\tFalse negatives:  971\tTrue negatives: 12376\n",
      "\n",
      "ExtraTreesClassifier(bootstrap=False, class_weight=None, criterion='gini',\n",
      "           max_depth=None, max_features='auto', max_leaf_nodes=None,\n",
      "           min_impurity_decrease=0.0, min_impurity_split=None,\n",
      "           min_samples_leaf=1, min_samples_split=2,\n",
      "           min_weight_fraction_leaf=0.0, n_estimators=10, n_jobs=1,\n",
      "           oob_score=False, random_state=None, verbose=0, warm_start=False)\n",
      "\tAccuracy: 0.88160\tPrecision: 0.63559\tRecall: 0.26250\tF1: 0.37155\tF2: 0.29742\n",
      "\tTotal predictions: 15000\tTrue positives:  525\tFalse positives:  301\tFalse negatives: 1475\tTrue negatives: 12699\n",
      "\n",
      "KMeans(algorithm='auto', copy_x=True, init='k-means++', max_iter=300,\n",
      "    n_clusters=2, n_init=10, n_jobs=1, precompute_distances='auto',\n",
      "    random_state=0, tol=0.0001, verbose=0)\n",
      "\tAccuracy: 0.83560\tPrecision: 0.21723\tRecall: 0.08950\tF1: 0.12677\tF2: 0.10143\n",
      "\tTotal predictions: 15000\tTrue positives:  179\tFalse positives:  645\tFalse negatives: 1821\tTrue negatives: 12355\n",
      "\n"
     ]
    }
   ],
   "source": [
    "# Replacing 'NaN' in financial features with 0\n",
    "enrondf = enrondf.fillna(0)\n",
    "\n",
    "### Store to my_dataset for easy export below.\n",
    "# featureFormat expects 'NaN' strings\n",
    "\n",
    "# back into dict\n",
    "data_dict = enrondf.to_dict(orient='index')\n",
    "\n",
    "for classifier in ['rfc','dtr','gnb','kn','ada','xtra','km']:\n",
    "    clf = set_classifier(classifier)\n",
    "    tester.dump_classifier_and_data(clf, data_dict, features_list)\n",
    "    tester.main();"
   ]
  },
  {
   "cell_type": "markdown",
   "metadata": {},
   "source": [
    "Adding these two features did not improve the accuracy or the f1 score but conversely decreased the f1 scores and accuracy of a few algorithms and so I removed last two features from the list. \n",
    "\n",
    "| Classifier            | Precision | Recall  | F1 Score | Accuracy |\n",
    "|-----------------------|-----------|---------|----------|----------|\n",
    "| RandomForest          | 0.62      | 0.23    | 0.34     | 0.87     |\n",
    "| GaussianNB            | 0.25      | 0.37    | 0.30     | 0.76     |\n",
    "| DecisionTree          | 0.62      | 0.60    | 0.61     | 0.89     |\n",
    "| KNeighbors            | 0.35      | 0.05    | 0.09     | 0.86     |\n",
    "| AdaBoost              | 0.62      | 0.51    | 0.51     | 0.89     |\n",
    "| ExtraTrees            | 0.63      | 0.25    | 0.36     | 0.88     |\n",
    "| KMeans (n_clusters=2) | 0.21      | 0.08    | 0.12     | 0.83     |\n",
    "\n",
    "The worst performing algorithms with precision and recall have been KNeighbors and KMeans and the best, DecisionTree and AdaBoost. "
   ]
  },
  {
   "cell_type": "code",
   "execution_count": 72,
   "metadata": {},
   "outputs": [],
   "source": [
    "#Accuracy and F1 scores are lower with these features\n",
    "\n",
    "features_list.remove('bonus_to_total') \n",
    "features_list.remove('bonus_to_salary')"
   ]
  },
  {
   "cell_type": "markdown",
   "metadata": {},
   "source": [
    "### Feature Selection\n",
    "\n",
    "The F1 score and accuracy scores already meet our criteria but, so far it has only been based on the features that I manually selected and each algorithm's default parameter settings.\n",
    "\n",
    "Now, I would like to use SelectKBest to let scikit learn pick the best features."
   ]
  },
  {
   "cell_type": "code",
   "execution_count": 73,
   "metadata": {
    "collapsed": true
   },
   "outputs": [],
   "source": [
    "from feature_format import featureFormat, targetFeatureSplit\n",
    "from sklearn.pipeline import Pipeline\n",
    "from sklearn.feature_selection import SelectKBest\n",
    "from sklearn.model_selection import GridSearchCV\n",
    "\n",
    "data_dict = enrondf.to_dict(orient='index')\n",
    "data = featureFormat(data_dict, features_list)\n",
    "labels, features = targetFeatureSplit(data)"
   ]
  },
  {
   "cell_type": "code",
   "execution_count": 82,
   "metadata": {},
   "outputs": [],
   "source": [
    "#DecisionTree KBest\n",
    "n_features = np.arange(1, len(features_list))\n",
    "\n",
    "pipe = Pipeline([\n",
    "    ('select_features', SelectKBest()),\n",
    "    ('classify', set_classifier('dtr'))\n",
    "])\n",
    "\n",
    "param_grid = [\n",
    "    {\n",
    "        'select_features__k': n_features\n",
    "    }\n",
    "]\n",
    "\n",
    "# Use GridSearchCV to automate the process of finding the optimal number of features\n",
    "tree_clf= GridSearchCV(pipe, param_grid=param_grid, scoring='f1', cv = 10)\n",
    "tree_clf.fit(features, labels);\n"
   ]
  },
  {
   "cell_type": "code",
   "execution_count": 83,
   "metadata": {},
   "outputs": [
    {
     "data": {
      "text/plain": [
       "{'select_features__k': 17}"
      ]
     },
     "execution_count": 83,
     "metadata": {},
     "output_type": "execute_result"
    }
   ],
   "source": [
    "tree_clf.best_params_"
   ]
  },
  {
   "cell_type": "code",
   "execution_count": 84,
   "metadata": {},
   "outputs": [
    {
     "name": "stdout",
     "output_type": "stream",
     "text": [
      "Tree Feature F-statistics:\n",
      "\n",
      "fraction_to_poi : 25.8782\n",
      "total_stock_value : 22.5105\n",
      "exercised_stock_options : 22.3490\n",
      "bonus : 20.7923\n",
      "salary : 18.2897\n",
      "fraction_shared_receipt : 15.6936\n",
      "deferred_income : 11.4249\n",
      "shared_receipt_with_poi : 10.4091\n",
      "long_term_incentive : 9.9222\n",
      "total_payments : 9.2839\n",
      "restricted_stock : 8.8254\n",
      "loan_advances : 7.1841\n",
      "from_poi_to_this_person : 5.4787\n",
      "expenses : 5.4189\n",
      "other : 4.2024\n",
      "fraction_from_poi : 2.5928\n",
      "from_this_person_to_poi : 2.4456\n"
     ]
    }
   ],
   "source": [
    "tree_selection = SelectKBest(k=17)\n",
    "tree_selection.fit_transform(features, labels)\n",
    "\n",
    "tree_scores = tree_selection.scores_\n",
    "tree_features = zip(tree_scores, features_list[1:])\n",
    "tree_features = sorted(tree_features, key= lambda x:x[0], reverse=True)\n",
    "\n",
    "print('Tree Feature F-statistics:\\n')\n",
    "for i in range(17):\n",
    "    print('{} : {:.4f}'.format(tree_features[i][1], tree_features[i][0]))"
   ]
  },
  {
   "cell_type": "code",
   "execution_count": 85,
   "metadata": {},
   "outputs": [
    {
     "name": "stdout",
     "output_type": "stream",
     "text": [
      "Pipeline(memory=None,\n",
      "     steps=[('select_features', SelectKBest(k=17, score_func=<function f_classif at 0x000000000BE69358>)), ('classify', DecisionTreeClassifier(class_weight=None, criterion='gini', max_depth=None,\n",
      "            max_features=None, max_leaf_nodes=None,\n",
      "            min_impurity_decrease=0.0, min_impurity_split=None,\n",
      "            min_samples_leaf=1, min_samples_split=2,\n",
      "            min_weight_fraction_leaf=0.0, presort=False, random_state=None,\n",
      "            splitter='best'))])\n",
      "\tAccuracy: 0.90313\tPrecision: 0.64149\tRecall: 0.62000\tF1: 0.63056\tF2: 0.62418\n",
      "\tTotal predictions: 15000\tTrue positives: 1240\tFalse positives:  693\tFalse negatives:  760\tTrue negatives: 12307\n",
      "\n"
     ]
    }
   ],
   "source": [
    "tree_clf = Pipeline([\n",
    "    ('select_features', SelectKBest(k=17)),\n",
    "    ('classify', set_classifier('dtr')),\n",
    "])\n",
    "\n",
    "tester.dump_classifier_and_data(tree_clf, data_dict, features_list)\n",
    "tester.main()"
   ]
  },
  {
   "cell_type": "code",
   "execution_count": 86,
   "metadata": {},
   "outputs": [
    {
     "data": {
      "text/plain": [
       "GridSearchCV(cv=10, error_score='raise',\n",
       "       estimator=Pipeline(memory=None,\n",
       "     steps=[('select_features', SelectKBest(k=10, score_func=<function f_classif at 0x000000000BE69358>)), ('classify', AdaBoostClassifier(algorithm='SAMME.R', base_estimator=None,\n",
       "          learning_rate=1.0, n_estimators=50, random_state=None))]),\n",
       "       fit_params=None, iid=True, n_jobs=1,\n",
       "       param_grid=[{'select_features__k': array([ 1,  2,  3,  4,  5,  6,  7,  8,  9, 10, 11, 12, 13, 14, 15, 16, 17,\n",
       "       18, 19, 20, 21, 22])}],\n",
       "       pre_dispatch='2*n_jobs', refit=True, return_train_score=True,\n",
       "       scoring='f1', verbose=0)"
      ]
     },
     "execution_count": 86,
     "metadata": {},
     "output_type": "execute_result"
    }
   ],
   "source": [
    "#AdaBoost KBest\n",
    "pipe = Pipeline([\n",
    "    ('select_features', SelectKBest()),\n",
    "    ('classify', set_classifier('ada'))\n",
    "])\n",
    "\n",
    "param_grid = [\n",
    "    {\n",
    "        'select_features__k': n_features\n",
    "    }\n",
    "]\n",
    "\n",
    "tree_clf = set_classifier('ada')\n",
    "\n",
    "tree_clf= GridSearchCV(pipe, param_grid=param_grid, scoring='f1', cv = 10)\n",
    "tree_clf.fit(features, labels)"
   ]
  },
  {
   "cell_type": "code",
   "execution_count": 87,
   "metadata": {},
   "outputs": [
    {
     "data": {
      "text/plain": [
       "{'select_features__k': 15}"
      ]
     },
     "execution_count": 87,
     "metadata": {},
     "output_type": "execute_result"
    }
   ],
   "source": [
    "tree_clf.best_params_"
   ]
  },
  {
   "cell_type": "code",
   "execution_count": 88,
   "metadata": {},
   "outputs": [
    {
     "name": "stdout",
     "output_type": "stream",
     "text": [
      "Tree Feature F-statistics:\n",
      "\n",
      "fraction_to_poi : 25.878\n",
      "total_stock_value : 22.511\n",
      "exercised_stock_options : 22.349\n",
      "bonus : 20.792\n",
      "salary : 18.290\n",
      "fraction_shared_receipt : 15.694\n",
      "deferred_income : 11.425\n",
      "shared_receipt_with_poi : 10.409\n",
      "long_term_incentive : 9.922\n",
      "total_payments : 9.284\n",
      "restricted_stock : 8.825\n",
      "loan_advances : 7.184\n",
      "from_poi_to_this_person : 5.479\n",
      "expenses : 5.419\n",
      "other : 4.202\n"
     ]
    }
   ],
   "source": [
    "tree_selection = SelectKBest(k=15)\n",
    "tree_selection.fit_transform(features, labels)\n",
    "\n",
    "tree_scores = tree_selection.scores_\n",
    "tree_features = zip(tree_scores, features_list[1:])\n",
    "tree_features = sorted(tree_features, key= lambda x:x[0], reverse=True)\n",
    "\n",
    "\n",
    "print('Tree Feature F-statistics:\\n')\n",
    "for i in range(15):\n",
    "    print('{} : {:.3f}'.format(tree_features[i][1], tree_features[i][0]))"
   ]
  },
  {
   "cell_type": "code",
   "execution_count": 89,
   "metadata": {},
   "outputs": [
    {
     "name": "stdout",
     "output_type": "stream",
     "text": [
      "Pipeline(memory=None,\n",
      "     steps=[('select_features', SelectKBest(k=15, score_func=<function f_classif at 0x000000000BE69358>)), ('classify', AdaBoostClassifier(algorithm='SAMME.R', base_estimator=None,\n",
      "          learning_rate=1.0, n_estimators=50, random_state=None))])\n",
      "\tAccuracy: 0.89940\tPrecision: 0.64085\tRecall: 0.55850\tF1: 0.59685\tF2: 0.57323\n",
      "\tTotal predictions: 15000\tTrue positives: 1117\tFalse positives:  626\tFalse negatives:  883\tTrue negatives: 12374\n",
      "\n"
     ]
    }
   ],
   "source": [
    "tree_clf = Pipeline([\n",
    "    ('select_features', SelectKBest(k=15)),\n",
    "    ('classify', set_classifier('ada')),\n",
    "])\n",
    "\n",
    "tester.dump_classifier_and_data(tree_clf, data_dict, features_list)\n",
    "tester.main()"
   ]
  },
  {
   "cell_type": "markdown",
   "metadata": {},
   "source": [
    "### Parameter Tuning\n",
    "\n",
    "I use GridSearchCV to pick the best parameter value setting based on the algorithms and the features selected. "
   ]
  },
  {
   "cell_type": "code",
   "execution_count": 91,
   "metadata": {},
   "outputs": [
    {
     "data": {
      "text/plain": [
       "GridSearchCV(cv=10, error_score='raise',\n",
       "       estimator=Pipeline(memory=None,\n",
       "     steps=[('select_features', SelectKBest(k=17, score_func=<function f_classif at 0x000000000BE69358>)), ('classify', DecisionTreeClassifier(class_weight=None, criterion='gini', max_depth=None,\n",
       "            max_features=None, max_leaf_nodes=None,\n",
       "            min_impu...     min_weight_fraction_leaf=0.0, presort=False, random_state=None,\n",
       "            splitter='best'))]),\n",
       "       fit_params=None, iid=True, n_jobs=1,\n",
       "       param_grid={'classify__max_features': [None, 'sqrt', 'log2', 'auto'], 'classify__min_samples_split': [2, 4, 6, 8, 10, 20], 'classify__criterion': ['gini', 'entropy'], 'classify__max_depth': [None, 5, 10, 15, 20]},\n",
       "       pre_dispatch='2*n_jobs', refit=True, return_train_score=True,\n",
       "       scoring='f1', verbose=0)"
      ]
     },
     "execution_count": 91,
     "metadata": {},
     "output_type": "execute_result"
    }
   ],
   "source": [
    "# Decision Tree Classifier\n",
    "tree_pipe = Pipeline([\n",
    "    ('select_features', SelectKBest(k=17)),\n",
    "    ('classify', DecisionTreeClassifier()),\n",
    "])\n",
    "\n",
    "param_grid = dict(classify__criterion = ['gini', 'entropy'] , \n",
    "                  classify__min_samples_split = [2, 4, 6, 8, 10, 20],\n",
    "                  classify__max_depth = [None, 5, 10, 15, 20],\n",
    "                  classify__max_features = [None, 'sqrt', 'log2', 'auto'])\n",
    "\n",
    "# Use GridSearchCV to find the optimal hyperparameters for the classifier\n",
    "tree_clf = GridSearchCV(tree_pipe, param_grid = param_grid, scoring='f1', cv=10)\n",
    "tree_clf.fit(features, labels)"
   ]
  },
  {
   "cell_type": "code",
   "execution_count": 92,
   "metadata": {},
   "outputs": [
    {
     "data": {
      "text/plain": [
       "0.76107226107226111"
      ]
     },
     "execution_count": 92,
     "metadata": {},
     "output_type": "execute_result"
    }
   ],
   "source": [
    "tree_clf.best_score_"
   ]
  },
  {
   "cell_type": "code",
   "execution_count": 93,
   "metadata": {},
   "outputs": [
    {
     "data": {
      "text/plain": [
       "{'classify__criterion': 'entropy',\n",
       " 'classify__max_depth': None,\n",
       " 'classify__max_features': None,\n",
       " 'classify__min_samples_split': 20}"
      ]
     },
     "execution_count": 93,
     "metadata": {},
     "output_type": "execute_result"
    }
   ],
   "source": [
    "tree_clf.best_params_"
   ]
  },
  {
   "cell_type": "code",
   "execution_count": 94,
   "metadata": {},
   "outputs": [
    {
     "name": "stdout",
     "output_type": "stream",
     "text": [
      "Pipeline(memory=None,\n",
      "     steps=[('select_features', SelectKBest(k=17, score_func=<function f_classif at 0x000000000BE69358>)), ('classify', DecisionTreeClassifier(class_weight=None, criterion='entropy', max_depth=None,\n",
      "            max_features=None, max_leaf_nodes=None,\n",
      "            min_impurity_decrease=0.0, min_impurity_split=None,\n",
      "            min_samples_leaf=1, min_samples_split=20,\n",
      "            min_weight_fraction_leaf=0.0, presort=False, random_state=None,\n",
      "            splitter='best'))])\n",
      "\tAccuracy: 0.92367\tPrecision: 0.68660\tRecall: 0.78650\tF1: 0.73316\tF2: 0.76426\n",
      "\tTotal predictions: 15000\tTrue positives: 1573\tFalse positives:  718\tFalse negatives:  427\tTrue negatives: 12282\n",
      "\n"
     ]
    }
   ],
   "source": [
    "# Create the classifier with the optimal hyperparameters as found by GridSearchCV\n",
    "\n",
    "tree_clf = Pipeline([\n",
    "    ('select_features', SelectKBest(k=17)),\n",
    "    ('classify', DecisionTreeClassifier(criterion='entropy',max_depth=None, max_features=None, min_samples_split=20))\n",
    "     ])\n",
    "    \n",
    "# Test the classifier using tester.py\n",
    "tester.dump_classifier_and_data(tree_clf, data_dict, features_list)\n",
    "tester.main()"
   ]
  },
  {
   "cell_type": "code",
   "execution_count": 95,
   "metadata": {},
   "outputs": [
    {
     "data": {
      "text/plain": [
       "GridSearchCV(cv=10, error_score='raise',\n",
       "       estimator=Pipeline(memory=None,\n",
       "     steps=[('select_features', SelectKBest(k=15, score_func=<function f_classif at 0x000000000BE69358>)), ('classify', AdaBoostClassifier(algorithm='SAMME.R', base_estimator=None,\n",
       "          learning_rate=1.0, n_estimators=50, random_state=None))]),\n",
       "       fit_params=None, iid=True, n_jobs=1,\n",
       "       param_grid={'classify__learning_rate': [0.5, 1, 1.25, 1.5, 2], 'classify__n_estimators': [50, 100, 500, 750, 1000, 2000, 5000], 'classify__base_estimator': [DecisionTreeClassifier(class_weight=None, criterion='gini', max_depth=None,\n",
       "            max_features=None, max_leaf_nodes=None,\n",
       "            min...n_jobs=1,\n",
       "            oob_score=False, random_state=None, verbose=0,\n",
       "            warm_start=False)]},\n",
       "       pre_dispatch='2*n_jobs', refit=True, return_train_score=True,\n",
       "       scoring='f1', verbose=0)"
      ]
     },
     "execution_count": 95,
     "metadata": {},
     "output_type": "execute_result"
    }
   ],
   "source": [
    "# AdaBoost\n",
    "pipe = Pipeline([\n",
    "    ('select_features', SelectKBest(k=15)),\n",
    "    ('classify', set_classifier('ada'))\n",
    "])\n",
    "\n",
    "param_grid = dict(classify__base_estimator=[DecisionTreeClassifier(), RandomForestClassifier()],\n",
    "                  classify__n_estimators = [50, 100, 500, 750, 1000, 2000, 5000],\n",
    "                  classify__learning_rate = [0.5, 1, 1.25, 1.5, 2])\n",
    "\n",
    "# Use GridSearchCV to automate the process of finding the optimal number of features\n",
    "ada_clf= GridSearchCV(pipe, param_grid=param_grid, scoring='f1', cv = 10)\n",
    "ada_clf.fit(features, labels)"
   ]
  },
  {
   "cell_type": "code",
   "execution_count": 96,
   "metadata": {},
   "outputs": [
    {
     "data": {
      "text/plain": [
       "0.69580419580419584"
      ]
     },
     "execution_count": 96,
     "metadata": {},
     "output_type": "execute_result"
    }
   ],
   "source": [
    "ada_clf.best_score_"
   ]
  },
  {
   "cell_type": "code",
   "execution_count": 97,
   "metadata": {},
   "outputs": [
    {
     "data": {
      "text/plain": [
       "{'classify__base_estimator': DecisionTreeClassifier(class_weight=None, criterion='gini', max_depth=None,\n",
       "             max_features=None, max_leaf_nodes=None,\n",
       "             min_impurity_decrease=0.0, min_impurity_split=None,\n",
       "             min_samples_leaf=1, min_samples_split=2,\n",
       "             min_weight_fraction_leaf=0.0, presort=False, random_state=None,\n",
       "             splitter='best'),\n",
       " 'classify__learning_rate': 0.5,\n",
       " 'classify__n_estimators': 1000}"
      ]
     },
     "execution_count": 97,
     "metadata": {},
     "output_type": "execute_result"
    }
   ],
   "source": [
    "ada_clf.best_params_"
   ]
  },
  {
   "cell_type": "code",
   "execution_count": 100,
   "metadata": {},
   "outputs": [
    {
     "name": "stdout",
     "output_type": "stream",
     "text": [
      "Pipeline(memory=None,\n",
      "     steps=[('select_features', SelectKBest(k=15, score_func=<function f_classif at 0x000000000BE69358>)), ('classify', AdaBoostClassifier(algorithm='SAMME.R',\n",
      "          base_estimator=DecisionTreeClassifier(class_weight=None, criterion='gini', max_depth=None,\n",
      "            max_features=None, max_leaf_node...,\n",
      "            splitter='best'),\n",
      "          learning_rate=0.5, n_estimators=1000, random_state=None))])\n",
      "\tAccuracy: 0.90300\tPrecision: 0.64112\tRecall: 0.61900\tF1: 0.62987\tF2: 0.62330\n",
      "\tTotal predictions: 15000\tTrue positives: 1238\tFalse positives:  693\tFalse negatives:  762\tTrue negatives: 12307\n",
      "\n"
     ]
    }
   ],
   "source": [
    "# Create the classifier with the optimal hyperparameters as found by GridSearchCV\n",
    "\n",
    "ada_clf = Pipeline([\n",
    "    ('select_features', SelectKBest(k=15)),\n",
    "    ('classify', AdaBoostClassifier(base_estimator = DecisionTreeClassifier(criterion='gini',max_depth=None, max_features=None, min_samples_leaf=1, min_samples_split=2)\n",
    "                ,learning_rate=0.5, n_estimators=1000))\n",
    "     ])\n",
    "    \n",
    "# Test the classifier using tester.py\n",
    "tester.dump_classifier_and_data(ada_clf, data_dict, features_list)\n",
    "tester.main()"
   ]
  },
  {
   "cell_type": "markdown",
   "metadata": {},
   "source": [
    "### Conclusions\n",
    "\n",
    "Below are the final results from the two algorithms I've chosen.\n",
    "\n",
    "| Classifier            | Precision | Recall  | F1 Score | Accuracy |\n",
    "|-----------------------|-----------|---------|----------|----------|\n",
    "| Decision Tree         | 0.68      | 0.78    | 0.73     | 0.92     |\n",
    "| Ada Boost             | 0.64      | 0.61    | 0.63     | 0.90     |\n",
    "\n",
    "Based on these numbers, I pick Decision Tree classifier as my final model.\n",
    "\n",
    "The accuracy of 0.92 means that my model is accurate 92 times on 100 and a precision of 0.68 means that 68% of times POI were indeed POI as predicted by my model and a recall score of 0.78 means that it identified 78% of POI in the dataset.\n",
    "\n",
    "The most important aspect of improving my model was selecting the best possible features as the right features improved the overall accuracy and f1 scores of algorithms and vice versa. Further, tuning the algorithms for the best possible parameters helped a great deal in getting the best results. I also want to point out that the amount of tidy data matters as the algorithms would have a bigger data set to train against and eventually perform better on test sets."
   ]
  },
  {
   "cell_type": "markdown",
   "metadata": {},
   "source": [
    "**References**\n",
    "\n",
    "* [Enron Scandal](https://en.wikipedia.org/wiki/Enron_scandal)\n",
    "* [Scikit Learn Documentation](http://scikit-learn.org/stable/documentation.html)\n",
    "* [Scikit Learn Cheatsheet](https://www.datacamp.com/community/blog/scikit-learn-cheat-sheet)"
   ]
  }
 ],
 "metadata": {
  "kernelspec": {
   "display_name": "Python 2",
   "language": "python",
   "name": "python2"
  },
  "language_info": {
   "codemirror_mode": {
    "name": "ipython",
    "version": 2
   },
   "file_extension": ".py",
   "mimetype": "text/x-python",
   "name": "python",
   "nbconvert_exporter": "python",
   "pygments_lexer": "ipython2",
   "version": "2.7.13"
  }
 },
 "nbformat": 4,
 "nbformat_minor": 2
}
